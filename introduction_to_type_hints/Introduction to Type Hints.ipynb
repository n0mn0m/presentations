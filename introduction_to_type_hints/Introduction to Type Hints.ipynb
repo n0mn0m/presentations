{
 "cells": [
  {
   "cell_type": "markdown",
   "metadata": {
    "slideshow": {
     "slide_type": "slide"
    }
   },
   "source": [
    "<h1 align=\"center\">Python types, hints and annotations</h1>\n",
    "<h3 align=\"center\">Alexander Hagerman</h3>"
   ]
  },
  {
   "cell_type": "markdown",
   "metadata": {
    "slideshow": {
     "slide_type": "slide"
    }
   },
   "source": [
    "<h3 align=\"center\">What are type hints?</h3>\n",
    "\n",
    "Type hints are annotations on objects to hint to the analyzer and reader what type an object is.\n",
    "\n",
    "```python\n",
    "from typing import List\n",
    "Vector = List[float]\n",
    "\n",
    "def scale(scalar: float, vector: Vector) -> Vector:\n",
    "    return [scalar * num for num in vector]\n",
    "\n",
    "# typechecks; a list of floats qualifies as a Vector.\n",
    "new_vector = scale(2.0, [1.0, -4.2, 5.4])\n",
    "```"
   ]
  },
  {
   "cell_type": "markdown",
   "metadata": {
    "slideshow": {
     "slide_type": "slide"
    }
   },
   "source": [
    "<h4 align=\"center\">Python is dynamic, why would I want to use type hints?</h4>\n",
    "\n",
    "- Increase code readability and information\n",
    "- Help catch common bugs\n",
    "- Better static analysis\n",
    "\n",
    "**Side note**:\n",
    "- A dynamic language can still have types. Python is [strongly typed](https://pythonconquerstheuniverse.wordpress.com/2009/10/03/static-vs-dynamic-typing-of-programming-languages/) which means that your objects have types even if you're not making use of that knowledge.\n",
    "\n",
    "```python\n",
    ">>> a = 1\n",
    ">>> type(a)\n",
    "<class 'int'>\n",
    "```"
   ]
  },
  {
   "cell_type": "markdown",
   "metadata": {
    "slideshow": {
     "slide_type": "slide"
    }
   },
   "source": [
    "<h3 align=\"center\">Adding information</h3>\n",
    "\n",
    "**Without annotations**\n",
    "\n",
    "```python\n",
    "import asyncpg\n",
    "\n",
    "async def load_events(ids, dbconfig):\n",
    "    conn = await asyncpg.connect(dbconfig)\n",
    "\n",
    "    async for id in ids:\n",
    "        async with conn.transaction():\n",
    "            rows = await connection.fetchval('select first_name, surname, dob, id, patient_id, events from patient_history where patient_id = $1', id)\n",
    "            row: PatientRecord\n",
    "            for row in rows:\n",
    "                ...\n",
    "```"
   ]
  },
  {
   "cell_type": "markdown",
   "metadata": {
    "slideshow": {
     "slide_type": "subslide"
    }
   },
   "source": [
    "**With annotations**\n",
    "\n",
    "```python\n",
    "from typing import List\n",
    "from datetime import datetime\n",
    "from mypy_extensions import TypedDict\n",
    "from .patient import Event\n",
    "\n",
    "class PatientRecord(TypedDict):\n",
    "    first_name: str\n",
    "    surname: str\n",
    "    dob: datetime\n",
    "    location: int\n",
    "    id: str\n",
    "    patient_id: int\n",
    "    events: List[Event]\n",
    "\n",
    "```"
   ]
  },
  {
   "cell_type": "markdown",
   "metadata": {
    "slideshow": {
     "slide_type": "subslide"
    }
   },
   "source": [
    "```python\n",
    "\n",
    "async def load_events(ids, dbconfig: DatabaseConfig):\n",
    "    conn = await asyncpg.connect(dbconfig)\n",
    "\n",
    "    id: int\n",
    "    async for id in ids:\n",
    "        async with conn.transaction():\n",
    "            rows = await connection.fetchval('select first_name, surname, dob, location, id, patient_id, events from patient_history where patient_id = $1', id)\n",
    "            row: PatientRecord\n",
    "            for row in rows:\n",
    "               ...\n",
    "```"
   ]
  },
  {
   "cell_type": "markdown",
   "metadata": {
    "slideshow": {
     "slide_type": "slide"
    }
   },
   "source": [
    "<h3 align=\"center\">Cleaning up types and finding bugs</h3>"
   ]
  },
  {
   "cell_type": "code",
   "execution_count": 3,
   "metadata": {
    "slideshow": {
     "slide_type": "subslide"
    }
   },
   "outputs": [
    {
     "name": "stdout",
     "output_type": "stream",
     "text": [
      "Meetup not found\n"
     ]
    }
   ],
   "source": [
    "%%typecheck\n",
    "\n",
    "from typing import List, Tuple, Dict, Sequence, Optional, Generator\n",
    "\n",
    "Meetup = Tuple[str, Dict[str, Sequence[str]]]\n",
    "\n",
    "def meetup_index(meetups: List[Tuple[str, Dict[str, Sequence[str]]]], meetup: str):\n",
    "    \"\"\"\n",
    "    Find the index for a given meetup in a list of meetups. Assumed meetup names are unique.\n",
    "    \"\"\"\n",
    "    index = (i for i, tupl in enumerate(meetups) if tupl[0] == meetup)\n",
    "    return next(index)\n",
    "\n",
    "\n",
    "meetups = [('DerbyPy', {'location': 'Sullivan University', \n",
    "                        'events': ['https://www.meetup.com/derbypy/events/jgtjnpyzmbjc/',\n",
    "                                   'https://www.meetup.com/derbypy/events/jgtjnpyznbgc/']}), \n",
    "           ('Derby DevOps', {'location': 'Downtown', \n",
    "                             'events': ['https://www.meetup.com/DevOps-Louisville/events/261959129/']})]\n",
    "\n",
    "\n",
    "meetup = meetup_index(meetups, \"DerbyPy\")\n",
    "\n",
    "if meetup:\n",
    "    print(meetup)\n",
    "else:\n",
    "    print(\"Meetup not found\")"
   ]
  },
  {
   "cell_type": "code",
   "execution_count": 5,
   "metadata": {
    "slideshow": {
     "slide_type": "subslide"
    }
   },
   "outputs": [
    {
     "name": "stdout",
     "output_type": "stream",
     "text": [
      "0\n"
     ]
    }
   ],
   "source": [
    "%%typecheck \n",
    "\n",
    "from typing import List, Tuple, Dict, Sequence, Optional\n",
    "\n",
    "Meetup = Tuple[str, Dict[str, Sequence[str]]]\n",
    "\n",
    "def meetup_index(meetups: List[Meetup], meetup: str) -> Optional[int]:\n",
    "    \"\"\"\n",
    "    Find the index for a given meetup in a list of meetups. Assumed meetup names are unique.\n",
    "    \"\"\"\n",
    "    index = (i for i, tupl in enumerate(meetups) if tupl[0] == meetup)\n",
    "    return next(index)\n",
    "\n",
    "\n",
    "meetups = [('DerbyPy', {'location': 'Sullivan University', \n",
    "                        'events': ['https://www.meetup.com/derbypy/events/jgtjnpyzmbjc/',\n",
    "                                   'https://www.meetup.com/derbypy/events/jgtjnpyznbgc/']}), \n",
    "           ('Derby DevOps', {'location': 'Downtown', \n",
    "                             'events': ['https://www.meetup.com/DevOps-Louisville/events/261959129/']})]\n",
    "\n",
    "meetup = meetup_index(meetups, \"DerbyPy\")\n",
    "\n",
    "if meetup >= 0 and meetup is not None:\n",
    "#if meetup is not None and meetup >= 0:\n",
    "    print(meetup)\n",
    "else:\n",
    "    print(\"Meetup not found\")"
   ]
  },
  {
   "cell_type": "markdown",
   "metadata": {
    "slideshow": {
     "slide_type": "slide"
    }
   },
   "source": [
    "<h3 align=\"center\">Catching common bugs</h3>\n",
    "\n",
    "```python\n",
    "import os\n",
    "import sqlite3\n",
    "\n",
    "dsn = os.environ.get(dsn)\n",
    "conn = sqlite3.connect(dsn)\n",
    "```"
   ]
  },
  {
   "cell_type": "markdown",
   "metadata": {
    "slideshow": {
     "slide_type": "slide"
    }
   },
   "source": [
    "<h3 align=\"center\">Unhandled optional values</h3>"
   ]
  },
  {
   "cell_type": "code",
   "execution_count": 33,
   "metadata": {
    "slideshow": {
     "slide_type": "subslide"
    }
   },
   "outputs": [
    {
     "name": "stdout",
     "output_type": "stream",
     "text": [
      "<string>:6: error: Cannot determine type of 'dsn'\n",
      "<string>:8: error: Argument 1 to \"connect\" has incompatible type \"Optional[str]\"; expected \"Union[bytes, str, _PathLike[str]]\"\n",
      "\n"
     ]
    },
    {
     "ename": "NameError",
     "evalue": "name 'dsn' is not defined",
     "output_type": "error",
     "traceback": [
      "\u001b[0;31m---------------------------------------------------------------------------\u001b[0m",
      "\u001b[0;31mNameError\u001b[0m                                 Traceback (most recent call last)",
      "\u001b[0;32m<ipython-input-33-7cc105c485ac>\u001b[0m in \u001b[0;36m<module>\u001b[0;34m\u001b[0m\n\u001b[1;32m      2\u001b[0m \u001b[0;32mimport\u001b[0m \u001b[0msqlite3\u001b[0m\u001b[0;34m\u001b[0m\u001b[0;34m\u001b[0m\u001b[0m\n\u001b[1;32m      3\u001b[0m \u001b[0;34m\u001b[0m\u001b[0m\n\u001b[0;32m----> 4\u001b[0;31m \u001b[0mdsn\u001b[0m \u001b[0;34m=\u001b[0m \u001b[0mos\u001b[0m\u001b[0;34m.\u001b[0m\u001b[0menviron\u001b[0m\u001b[0;34m.\u001b[0m\u001b[0mget\u001b[0m\u001b[0;34m(\u001b[0m\u001b[0mdsn\u001b[0m\u001b[0;34m)\u001b[0m\u001b[0;34m\u001b[0m\u001b[0;34m\u001b[0m\u001b[0m\n\u001b[0m\u001b[1;32m      5\u001b[0m \u001b[0;34m\u001b[0m\u001b[0m\n\u001b[1;32m      6\u001b[0m \u001b[0mconn\u001b[0m \u001b[0;34m=\u001b[0m \u001b[0msqlite3\u001b[0m\u001b[0;34m.\u001b[0m\u001b[0mconnect\u001b[0m\u001b[0;34m(\u001b[0m\u001b[0mdsn\u001b[0m\u001b[0;34m)\u001b[0m\u001b[0;34m\u001b[0m\u001b[0;34m\u001b[0m\u001b[0m\n",
      "\u001b[0;31mNameError\u001b[0m: name 'dsn' is not defined"
     ]
    }
   ],
   "source": [
    "%%typecheck\n",
    "\n",
    "import os\n",
    "import sqlite3\n",
    "\n",
    "dsn = os.environ.get(dsn)\n",
    "conn = sqlite3.connect(dsn)"
   ]
  },
  {
   "cell_type": "code",
   "execution_count": 4,
   "metadata": {
    "slideshow": {
     "slide_type": "subslide"
    }
   },
   "outputs": [
    {
     "ename": "AttributeError",
     "evalue": "'NoneType' object has no attribute 'get'",
     "output_type": "error",
     "traceback": [
      "\u001b[0;31m---------------------------------------------------------------------------\u001b[0m",
      "\u001b[0;31mAttributeError\u001b[0m                            Traceback (most recent call last)",
      "\u001b[0;32m<ipython-input-4-fd269bc125ec>\u001b[0m in \u001b[0;36m<module>\u001b[0;34m\u001b[0m\n\u001b[1;32m     10\u001b[0m \u001b[0mmeetup\u001b[0m \u001b[0;34m=\u001b[0m \u001b[0mmeetups\u001b[0m\u001b[0;34m.\u001b[0m\u001b[0mget\u001b[0m\u001b[0;34m(\u001b[0m\u001b[0;34m'JUGGL'\u001b[0m\u001b[0;34m)\u001b[0m\u001b[0;34m\u001b[0m\u001b[0;34m\u001b[0m\u001b[0m\n\u001b[1;32m     11\u001b[0m \u001b[0;34m\u001b[0m\u001b[0m\n\u001b[0;32m---> 12\u001b[0;31m \u001b[0;32mfor\u001b[0m \u001b[0mevents\u001b[0m \u001b[0;32min\u001b[0m \u001b[0mmeetup\u001b[0m\u001b[0;34m.\u001b[0m\u001b[0mget\u001b[0m\u001b[0;34m(\u001b[0m\u001b[0;34m'events'\u001b[0m\u001b[0;34m)\u001b[0m\u001b[0;34m:\u001b[0m\u001b[0;34m\u001b[0m\u001b[0;34m\u001b[0m\u001b[0m\n\u001b[0m\u001b[1;32m     13\u001b[0m     \u001b[0;32mfor\u001b[0m \u001b[0mevent\u001b[0m \u001b[0;32min\u001b[0m \u001b[0mevents\u001b[0m\u001b[0;34m:\u001b[0m\u001b[0;34m\u001b[0m\u001b[0;34m\u001b[0m\u001b[0m\n\u001b[1;32m     14\u001b[0m         \u001b[0mprint\u001b[0m\u001b[0;34m(\u001b[0m\u001b[0mevent\u001b[0m\u001b[0;34m)\u001b[0m\u001b[0;34m\u001b[0m\u001b[0;34m\u001b[0m\u001b[0m\n",
      "\u001b[0;31mAttributeError\u001b[0m: 'NoneType' object has no attribute 'get'"
     ]
    }
   ],
   "source": [
    "#%%typecheck\n",
    "\n",
    "meetups = {'DerbyPy': {'location': 'Sullivan University', \n",
    "                        'events': ['https://www.meetup.com/derbypy/events/jgtjnpyzmbjc/',\n",
    "                                   'https://www.meetup.com/derbypy/events/jgtjnpyznbgc/']},\n",
    "           'Derby DevOps': {'location': 'Downtown', \n",
    "                             'events': ['https://www.meetup.com/DevOps-Louisville/events/261959129/']}\n",
    "           }\n",
    "\n",
    "meetup = meetups.get('JUGGL')\n",
    "\n",
    "for events in meetup.get('events'):\n",
    "    for event in events:\n",
    "        print(event)"
   ]
  },
  {
   "cell_type": "markdown",
   "metadata": {
    "slideshow": {
     "slide_type": "slide"
    }
   },
   "source": [
    "<h3 align=\"center\">Incompatible Types</h3>"
   ]
  },
  {
   "cell_type": "code",
   "execution_count": 53,
   "metadata": {
    "slideshow": {
     "slide_type": "subslide"
    }
   },
   "outputs": [
    {
     "ename": "AttributeError",
     "evalue": "'tuple' object has no attribute 'append'",
     "output_type": "error",
     "traceback": [
      "\u001b[0;31m---------------------------------------------------------------------------\u001b[0m",
      "\u001b[0;31mAttributeError\u001b[0m                            Traceback (most recent call last)",
      "\u001b[0;32m<ipython-input-53-c25cdf330b02>\u001b[0m in \u001b[0;36m<module>\u001b[0;34m\u001b[0m\n\u001b[1;32m     12\u001b[0m \u001b[0mrow\u001b[0m \u001b[0;34m=\u001b[0m \u001b[0mcur\u001b[0m\u001b[0;34m.\u001b[0m\u001b[0mfetchone\u001b[0m\u001b[0;34m(\u001b[0m\u001b[0;34m)\u001b[0m\u001b[0;34m\u001b[0m\u001b[0;34m\u001b[0m\u001b[0m\n\u001b[1;32m     13\u001b[0m \u001b[0;34m\u001b[0m\u001b[0m\n\u001b[0;32m---> 14\u001b[0;31m \u001b[0mupdated_row\u001b[0m \u001b[0;34m=\u001b[0m \u001b[0mappend_retrieve_date\u001b[0m\u001b[0;34m(\u001b[0m\u001b[0mrow\u001b[0m\u001b[0;34m)\u001b[0m\u001b[0;34m\u001b[0m\u001b[0;34m\u001b[0m\u001b[0m\n\u001b[0m",
      "\u001b[0;32m<ipython-input-53-c25cdf330b02>\u001b[0m in \u001b[0;36mappend_retrieve_date\u001b[0;34m(row)\u001b[0m\n\u001b[1;32m      4\u001b[0m \u001b[0;32mdef\u001b[0m \u001b[0mappend_retrieve_date\u001b[0m\u001b[0;34m(\u001b[0m\u001b[0mrow\u001b[0m\u001b[0;34m)\u001b[0m\u001b[0;34m:\u001b[0m\u001b[0;34m\u001b[0m\u001b[0;34m\u001b[0m\u001b[0m\n\u001b[1;32m      5\u001b[0m     \u001b[0mretrieved\u001b[0m \u001b[0;34m=\u001b[0m \u001b[0mdatetime\u001b[0m\u001b[0;34m.\u001b[0m\u001b[0mdatetime\u001b[0m\u001b[0;34m.\u001b[0m\u001b[0mnow\u001b[0m\u001b[0;34m(\u001b[0m\u001b[0;34m)\u001b[0m\u001b[0;34m\u001b[0m\u001b[0;34m\u001b[0m\u001b[0m\n\u001b[0;32m----> 6\u001b[0;31m     \u001b[0mrow\u001b[0m\u001b[0;34m.\u001b[0m\u001b[0mappend\u001b[0m\u001b[0;34m(\u001b[0m\u001b[0mretrieved\u001b[0m\u001b[0;34m)\u001b[0m\u001b[0;34m\u001b[0m\u001b[0;34m\u001b[0m\u001b[0m\n\u001b[0m\u001b[1;32m      7\u001b[0m     \u001b[0;32mreturn\u001b[0m \u001b[0mrow\u001b[0m\u001b[0;34m\u001b[0m\u001b[0;34m\u001b[0m\u001b[0m\n\u001b[1;32m      8\u001b[0m \u001b[0;34m\u001b[0m\u001b[0m\n",
      "\u001b[0;31mAttributeError\u001b[0m: 'tuple' object has no attribute 'append'"
     ]
    }
   ],
   "source": [
    "%%typecheck\n",
    "\n",
    "import datetime\n",
    "import sqlite3\n",
    "\n",
    "def append_retrieve_date(row):\n",
    "    retrieved = datetime.datetime.now()\n",
    "    row.append(retrieved)\n",
    "    return row\n",
    "\n",
    "con = sqlite3.connect(\":memory:\")\n",
    "cur = con.cursor()\n",
    "cur.execute(\"select 1 as a\")\n",
    "row = cur.fetchone()\n",
    "\n",
    "updated_row = append_retrieve_date(row)"
   ]
  },
  {
   "cell_type": "code",
   "execution_count": 54,
   "metadata": {
    "slideshow": {
     "slide_type": "subslide"
    }
   },
   "outputs": [
    {
     "name": "stdout",
     "output_type": "stream",
     "text": [
      "<string>:17: error: Argument 1 to \"append_retrieve_date\" has incompatible type \"Tuple[Any, ...]\"; expected \"List[Any]\"\n",
      "\n"
     ]
    },
    {
     "ename": "AttributeError",
     "evalue": "'tuple' object has no attribute 'append'",
     "output_type": "error",
     "traceback": [
      "\u001b[0;31m---------------------------------------------------------------------------\u001b[0m",
      "\u001b[0;31mAttributeError\u001b[0m                            Traceback (most recent call last)",
      "\u001b[0;32m<ipython-input-54-eb9b7f95bfa1>\u001b[0m in \u001b[0;36m<module>\u001b[0;34m\u001b[0m\n\u001b[1;32m     13\u001b[0m \u001b[0mrow\u001b[0m\u001b[0;34m:\u001b[0m \u001b[0mTuple\u001b[0m \u001b[0;34m=\u001b[0m \u001b[0mcur\u001b[0m\u001b[0;34m.\u001b[0m\u001b[0mfetchone\u001b[0m\u001b[0;34m(\u001b[0m\u001b[0;34m)\u001b[0m\u001b[0;34m\u001b[0m\u001b[0;34m\u001b[0m\u001b[0m\n\u001b[1;32m     14\u001b[0m \u001b[0;34m\u001b[0m\u001b[0m\n\u001b[0;32m---> 15\u001b[0;31m \u001b[0mupdated_row\u001b[0m \u001b[0;34m=\u001b[0m \u001b[0mappend_retrieve_date\u001b[0m\u001b[0;34m(\u001b[0m\u001b[0mrow\u001b[0m\u001b[0;34m)\u001b[0m\u001b[0;34m\u001b[0m\u001b[0;34m\u001b[0m\u001b[0m\n\u001b[0m",
      "\u001b[0;32m<ipython-input-54-eb9b7f95bfa1>\u001b[0m in \u001b[0;36mappend_retrieve_date\u001b[0;34m(row)\u001b[0m\n\u001b[1;32m      5\u001b[0m \u001b[0;32mdef\u001b[0m \u001b[0mappend_retrieve_date\u001b[0m\u001b[0;34m(\u001b[0m\u001b[0mrow\u001b[0m\u001b[0;34m:\u001b[0m \u001b[0mList\u001b[0m\u001b[0;34m)\u001b[0m\u001b[0;34m:\u001b[0m\u001b[0;34m\u001b[0m\u001b[0;34m\u001b[0m\u001b[0m\n\u001b[1;32m      6\u001b[0m     \u001b[0mretrieved\u001b[0m \u001b[0;34m=\u001b[0m \u001b[0mdatetime\u001b[0m\u001b[0;34m.\u001b[0m\u001b[0mdatetime\u001b[0m\u001b[0;34m.\u001b[0m\u001b[0mnow\u001b[0m\u001b[0;34m(\u001b[0m\u001b[0;34m)\u001b[0m\u001b[0;34m\u001b[0m\u001b[0;34m\u001b[0m\u001b[0m\n\u001b[0;32m----> 7\u001b[0;31m     \u001b[0mrow\u001b[0m\u001b[0;34m.\u001b[0m\u001b[0mappend\u001b[0m\u001b[0;34m(\u001b[0m\u001b[0mretrieved\u001b[0m\u001b[0;34m)\u001b[0m\u001b[0;34m\u001b[0m\u001b[0;34m\u001b[0m\u001b[0m\n\u001b[0m\u001b[1;32m      8\u001b[0m     \u001b[0;32mreturn\u001b[0m \u001b[0mrow\u001b[0m\u001b[0;34m\u001b[0m\u001b[0;34m\u001b[0m\u001b[0m\n\u001b[1;32m      9\u001b[0m \u001b[0;34m\u001b[0m\u001b[0m\n",
      "\u001b[0;31mAttributeError\u001b[0m: 'tuple' object has no attribute 'append'"
     ]
    }
   ],
   "source": [
    "%%typecheck\n",
    "\n",
    "import datetime\n",
    "import sqlite3\n",
    "from typing import List, Tuple\n",
    "\n",
    "def append_retrieve_date(row: List):\n",
    "    retrieved = datetime.datetime.now()\n",
    "    row.append(retrieved)\n",
    "    return row\n",
    "\n",
    "con = sqlite3.connect(\":memory:\")\n",
    "cur = con.cursor()\n",
    "cur.execute(\"select 1 as a\")\n",
    "row: Tuple = cur.fetchone()\n",
    "\n",
    "updated_row = append_retrieve_date(row)"
   ]
  },
  {
   "cell_type": "code",
   "execution_count": 55,
   "metadata": {
    "slideshow": {
     "slide_type": "subslide"
    }
   },
   "outputs": [
    {
     "name": "stdout",
     "output_type": "stream",
     "text": [
      "[1, datetime.datetime(2019, 8, 22, 9, 57, 26, 707298)]\n"
     ]
    }
   ],
   "source": [
    "%%typecheck\n",
    "\n",
    "import datetime\n",
    "import sqlite3\n",
    "from typing import List, Tuple\n",
    "\n",
    "def append_retrieve_date(row: List) -> List:\n",
    "    retrieved = datetime.datetime.now()\n",
    "    row.append(retrieved)\n",
    "    return row\n",
    "\n",
    "con = sqlite3.connect(\":memory:\")\n",
    "cur = con.cursor()\n",
    "cur.execute(\"select 1 as a\")\n",
    "row: Tuple = cur.fetchone()\n",
    "\n",
    "updated_row = append_retrieve_date(list(row))\n",
    "\n",
    "print(updated_row)"
   ]
  },
  {
   "cell_type": "markdown",
   "metadata": {
    "slideshow": {
     "slide_type": "slide"
    }
   },
   "source": [
    "<h3 align=\"center\">Python annotations _COULD_ be used to help with performance</h3>\n",
    "\n",
    "- [mypyc](https://mypy-lang.blogspot.com/2019/01/mypy-0660-released.html)\n",
    "- [cython type hints](http://docs.cython.org/en/latest/src/tutorial/pure.html#static-typing)\n",
    "\n",
    "Note from PEP 484\n",
    "\n",
    "```\n",
    "While the proposed typing module will contain some building blocks for runtime type checking -- in particular the get_type_hints() function -- third party packages would have to be developed to implement specific runtime type checking functionality, for example using decorators or metaclasses. Using type hints for performance optimizations is left as an exercise for the reader.\n",
    "\n",
    "It should also be emphasized that Python will remain a dynamically typed language, and the authors have no desire to ever make type hints mandatory, even by convention.\n",
    "```"
   ]
  },
  {
   "cell_type": "markdown",
   "metadata": {
    "slideshow": {
     "slide_type": "slide"
    }
   },
   "source": [
    "<h3 align=\"center\">Additional Reading</h3>\n",
    "\n",
    "- [Python Docs - Typing Module](https://docs.python.org/3/library/typing.html)\n",
    "- [PEP 484 Type Hints](https://www.python.org/dev/peps/pep-0484/)\n",
    "- [Python 3.8 what's new in typing](https://docs.python.org/3.8/whatsnew/3.8.html#typing)\n",
    "    \n",
    "    \n"
   ]
  },
  {
   "cell_type": "markdown",
   "metadata": {
    "slideshow": {
     "slide_type": "slide"
    }
   },
   "source": [
    "<h3 align=\"center\">Additional Reading</h3>\n",
    "\n",
    "- [A deep dive on Python type hints - Vicki Boykis](https://veekaybee.github.io/2019/07/08/python-type-hints)\n",
    "- [Real Python - Type Checking](https://realpython.com/python-type-checking/)\n",
    "- [What are Type Hints](https://stackoverflow.com/questions/32557920/what-are-type-hints-in-python-3-5)\n",
    "\n",
    "\n",
    "- [Classic Computer Science Problems with Python](https://www.manning.com/books/classic-computer-science-problems-in-python)\n",
    "- [Data Science from Scratch Second Edition](https://www.oreilly.com/library/view/data-science-from/9781492041122/)"
   ]
  },
  {
   "cell_type": "markdown",
   "metadata": {
    "slideshow": {
     "slide_type": "slide"
    }
   },
   "source": [
    "<h3 align=\"center\">Tools</h3>\n",
    "\n",
    "- [mypy](http://mypy-lang.org/)\n",
    "- [pyannotate](https://github.com/dropbox/pyannotate)\n",
    "- [pytype](https://google.github.io/pytype/) - platform\n",
    "- [pyre](https://pyre-check.org/) - external deps, platform\n",
    "- [pyright](https://github.com/microsoft/pyright) - external deps, npm install"
   ]
  },
  {
   "cell_type": "code",
   "execution_count": null,
   "metadata": {
    "slideshow": {
     "slide_type": "skip"
    }
   },
   "outputs": [],
   "source": []
  }
 ],
 "metadata": {
  "celltoolbar": "Slideshow",
  "kernelspec": {
   "display_name": "Python 3",
   "language": "python",
   "name": "python3"
  },
  "language_info": {
   "codemirror_mode": {
    "name": "ipython",
    "version": 3
   },
   "file_extension": ".py",
   "mimetype": "text/x-python",
   "name": "python",
   "nbconvert_exporter": "python",
   "pygments_lexer": "ipython3",
   "version": "3.7.3"
  }
 },
 "nbformat": 4,
 "nbformat_minor": 2
}
