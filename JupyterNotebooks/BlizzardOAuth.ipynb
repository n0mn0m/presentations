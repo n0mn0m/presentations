{
 "cells": [
  {
   "cell_type": "markdown",
   "metadata": {},
   "source": [
    "Site: http://requests-oauthlib.readthedocs.io/en/latest/oauth2_workflow.html"
   ]
  },
  {
   "cell_type": "code",
   "execution_count": null,
   "metadata": {
    "collapsed": true
   },
   "outputs": [],
   "source": [
    "import requests\n",
    "from requests_oauthlib import OAuth2Session\n",
    "\n",
    "client_id = ''\n",
    "api_secret = ''\n",
    "redirect_uri = 'https://localhost:5000'\n",
    "authorization_base_url = 'https://us.battle.net/oauth/authorize'\n",
    "token_url = 'https://us.battle.net/oauth/token'\n",
    "verify_token = 'https://us.battle.net/oauth/check_token?token='\n",
    "\n",
    "# Note that these are Google specific scopes\n",
    "oauth = OAuth2Session(client_id, redirect_uri=redirect_uri)\n",
    "authorization_url, state = oauth.authorization_url('https://us.battle.net/oauth/authorize')\n",
    "\n",
    "new_r = requests.get(authorization_url)\n",
    "#print(vars(new_r))\n",
    "print(new_r.url)\n",
    "\n",
    "#print(new_r.text)\n",
    "authorization_response = input('Enter the full callback URL ')"
   ]
  },
  {
   "cell_type": "code",
   "execution_count": null,
   "metadata": {
    "collapsed": true
   },
   "outputs": [],
   "source": [
    "token = oauth.fetch_token(\n",
    "        token_url,\n",
    "        authorization_response=authorization_response,\n",
    "        client_secret=api_secret)\n",
    "\n",
    "print(token)"
   ]
  },
  {
   "cell_type": "code",
   "execution_count": null,
   "metadata": {
    "collapsed": true
   },
   "outputs": [],
   "source": [
    "print(token['access_token'])\n",
    "p = {'token':token['access_token']}\n",
    "print(p)\n",
    "v = requests.get('https://us.battle.net/oauth/check_token', params=p)\n",
    "print(v)\n",
    "print(v.text)"
   ]
  },
  {
   "cell_type": "code",
   "execution_count": null,
   "metadata": {
    "collapsed": true
   },
   "outputs": [],
   "source": [
    "print(token['access_token'])\n",
    "p = {'access_token':token['access_token']}\n",
    "print(p)\n",
    "c = requests.get('https://us.api.battle.net/account/user?', params=p)\n",
    "print(c)\n",
    "print(c.status_code)\n",
    "print(c.text)"
   ]
  },
  {
   "cell_type": "code",
   "execution_count": null,
   "metadata": {
    "collapsed": true
   },
   "outputs": [],
   "source": [
    "headers = {'access_token': token['access_token'],'locale':'en_US', 'apikey':client_id}\n",
    "r = requests.get('https://us.api.battle.net/sc2/profile/user', params=headers)\n",
    "print(r.status_code)\n",
    "print(r.text)"
   ]
  },
  {
   "cell_type": "code",
   "execution_count": null,
   "metadata": {
    "collapsed": true
   },
   "outputs": [],
   "source": []
  }
 ],
 "metadata": {
  "anaconda-cloud": {},
  "kernelspec": {
   "display_name": "Python 3",
   "language": "python",
   "name": "python3"
  },
  "language_info": {
   "codemirror_mode": {
    "name": "ipython",
    "version": 3
   },
   "file_extension": ".py",
   "mimetype": "text/x-python",
   "name": "python",
   "nbconvert_exporter": "python",
   "pygments_lexer": "ipython3",
   "version": "3.6.3"
  }
 },
 "nbformat": 4,
 "nbformat_minor": 1
}
