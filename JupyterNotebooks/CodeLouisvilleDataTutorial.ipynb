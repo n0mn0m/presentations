{
 "cells": [
  {
   "cell_type": "markdown",
   "metadata": {},
   "source": [
    "# How to scrub data and make friends\n",
    "\n",
    "In this tutorial we are going to walk through the process of building a small scale data pipeline touching on most of your project requirements along the way. I've built this with the hope of introducing you to some new ideas and concepts within Python.\n",
    "\n",
    "- Packages - while you've been learning about the language itself we are going to look at packages, how to find them and how you can learn more about their usage. We will specifically look at reviewing docs one of the most valuable tools avaialble to you as a programmer.\n",
    "\n",
    "- collections - this gem sits in the Python Standard Library and has a lot of awesome data structures. One that has been useful to me time again when building data applications is the namedtuple.\n",
    "\n",
    "- String manipulations - just because there's more data in the world today doesn't mean it's ready for consumption. Even data that looks clean at first glance may hold some inconsistencies that can break your assumptions quickly. We are going to look at ways to handle cleaning strings using python string type methods and regex\n",
    "\n",
    "- Iteratating - Python has lots of tools for iterating over collections and strings. We will look at some of the more well known and widely used options such as the for loop and list comprehension as well as showing the itertools Standard Library package.\n",
    "\n",
    "- Storing data - as part of our data pipeline we probably want to save data for later use or sharing with others. While various file options exist those are prone to error both on read and write. We will make use of SQLite being available as part of the Python Standard Library to store the data, and then show how it can be used to make some analysis easier with simple queries."
   ]
  },
  {
   "cell_type": "markdown",
   "metadata": {},
   "source": [
    "## Getting Started\n",
    "To begin let's' import all the packages we know we will need. Later on we may decide we need new packages in which can we can import them inline. Later on once we have a more finished notebook we could move them back to the top to make it easy to see what packages are needed to run this notebook."
   ]
  },
  {
   "cell_type": "code",
   "execution_count": 1,
   "metadata": {
    "collapsed": true
   },
   "outputs": [],
   "source": [
    "import sqlite3\n",
    "import re\n",
    "import requests\n",
    "from math import pi\n",
    "from itertools import chain\n",
    "from collections import namedtuple\n",
    "from bokeh.io import show, output_notebook\n",
    "from bokeh.plotting import figure, output_file, show\n",
    "from bokeh.models import HoverTool, FuncTickFormatter, FixedTicker, ColumnDataSource"
   ]
  },
  {
   "cell_type": "markdown",
   "metadata": {},
   "source": [
    "## Project\n",
    "\n",
    "For this project I wanted to pull some data from a remote api. I found a coffee dataset that looked interesting on data.world and figured that would be a good source for the purposes of this tutorial.\n",
    "\n",
    "This tutorial will walk through using the requests library to talk with the data.world API pulling a remote datasource into a Python object where we will then proceed to move the data through a variety of structures cleaning the data up and analyzing some of it's characteristics. Once we have the data in a clean format we will write it to a database as a check point from which we can pick back up or provide the data to other users. \n",
    "\n",
    "We will then examine how SQL Queries can make certain operations fast and straight forward for aggregating or manipulating datasets and how to load data back from our database into a new Python object. \n",
    "\n",
    "After that we will review manipulating the data once more to put it into formats easy to visualize with Bokeh and provide a quick analysis of some findings from the Austion Coffee Yelp Reviews dataset.\n",
    "\n",
    "### Datasource\n",
    "https://data.world/rdowns26/austin-coffee-yelp-reviews\n",
    "\n",
    "### Data.world API\n",
    "https://data.world/about/ signup\n",
    "\n",
    "https://apidocs.data.world/v0/data-world-for-developers/api-quickstart\n",
    "\n",
    "https://data.world/settings/advanced get your Auth Key"
   ]
  },
  {
   "cell_type": "markdown",
   "metadata": {},
   "source": [
    "## Getting the Data\n",
    "\n",
    "Let's make use of the awesome Requests library for our HTTP call. http://docs.python-requests.org/en/master/\n",
    "\n",
    "\n",
    "Per the data.world API docs we need to pass our Authorization key and a Content-type in the headers. We can setup and pass custom headers easily with requests in the GET call by creating and passing a Python dictionary. http://docs.python-requests.org/en/master/user/quickstart/#custom-headers\n",
    "\n",
    "Checkout the coffee_reviews object inspecting the type and available functions/attributes. We can extract the text and begin reviewing the data."
   ]
  },
  {
   "cell_type": "code",
   "execution_count": 2,
   "metadata": {
    "collapsed": true
   },
   "outputs": [],
   "source": [
    "token = ''\n",
    "header = headers = {'Authorization': f'Bearer {token}','Content-type': 'application/json'}\n",
    "\n",
    "coffee_reviews = requests.get('https://api.data.world/v0/file_download/rdowns26/austin-coffee-yelp-reviews/raw_yelp_review_data.csv', \n",
    "                             headers=headers)\n",
    "\n",
    "#dir(coffee_reviews) uncomment this, but know that the list is long\n",
    "#type(coffee_reviews)\n",
    "raw_text = coffee_reviews.text"
   ]
  },
  {
   "cell_type": "markdown",
   "metadata": {},
   "source": [
    "## Parsing the data\n",
    "\n",
    "What do you notice about the text we have received? Is there a common row delimiter? What about a common column delimiter we can use?\n",
    "\n",
    "https://stackoverflow.com/questions/3091524/what-are-carriage-return-linefeed-and-form-feed"
   ]
  },
  {
   "cell_type": "code",
   "execution_count": 3,
   "metadata": {},
   "outputs": [
    {
     "data": {
      "text/plain": [
       "'The Factory - Cafe With a Soul ,\" 11/30/2016 1 check-in Listed in Brunch Spots I loved the eclectic and homey plush decor and who doesn\\'t want to swing and drink their coffee?  I would categorize this as a pricier coffee place but, to me it was worth it.  After Thanksgiving nobody wants to make brunch so we headed out in search of chicken and waffles.  There is ample parking in the private lot and  ordering is done through I-Pads.  Pick a seat and they will call your name when your items are ready.  Be patient because some of the coffee drinks take longer than others.  I had the cold brew coffee, chicken and waffles and we shared a pop+art!  The po+art was strawberry; light and fluffy on the outside and gooey sweet filling on the inside.  The chicken and waffles wasn\\'t the standard so expect different, complex and interesting flavors from the accompanying slaw and sauce.  I thoroughly enjoyed it but, the waffle was a bit bland and maybe could have used a bit of honey to spruce it up.  The coffee here is spot on and I hear that their hot chocolate is the bomb but, I will have to wait for the weather to cool off to try that.  A great place to be cozy and chat with your friends, a date or read a book. Chicken and waffles Pop tart Coffee See all photos from Carmela S. for The Factory - Cafe With a Soul \", 4.0 star rating '"
      ]
     },
     "execution_count": 3,
     "metadata": {},
     "output_type": "execute_result"
    }
   ],
   "source": [
    "review_list = raw_text.split('\\r')\n",
    "review_list[3]"
   ]
  },
  {
   "cell_type": "markdown",
   "metadata": {},
   "source": [
    "## Introducing some new Python concepts\n",
    "\n",
    "A lot of different python structures and functions are about to be used as we attempt to clean and parse the data we have received. You may recognize some or you might not recognize any of the functions and structures below. That's ok as you come across new concepts try them in your REPL, ask questions and definitely read the documentation. The format and language of the docs may seem weird even alien at first, but over time they will begin to make more sense and be an invaluable tool for you as a programmer.\n",
    "\n",
    "- namedtuple - https://docs.python.org/3.6/library/collections.html\n",
    "- list comprehension - https://docs.python.org/3.6/tutorial/datastructures.html#list-comprehensions\n",
    "- strings - https://docs.python.org/3.6/library/string.html\n",
    "- split - https://docs.python.org/3.6/library/stdtypes.html#str.split\n",
    "- join - https://docs.python.org/3.6/library/stdtypes.html#str.join\n",
    "- map - https://docs.python.org/3.6/library/functions.html#map\n",
    "- lambda - https://docs.python.org/3.6/reference/expressions.html#lambda\n"
   ]
  },
  {
   "cell_type": "code",
   "execution_count": 4,
   "metadata": {},
   "outputs": [
    {
     "data": {
      "text/plain": [
       "['The Factory - Cafe With a Soul ',\n",
       " '\" 12/3/2016 1 check-in They are located within the Northcross mall shopping center facing east toward Burnet Rd with plenty of parking. I loved their computerized user friendly ordering system',\n",
       " ' it made it easy me to pick & choose all the items I wanted to try. I ordered pop tart',\n",
       " ' chicken & waffles',\n",
       " ' strawberry waffles (photos uploaded). This place is ideal for ordering a few dishes to share with your group. Seating is limited since this place is fairly new with lots of visitors. Arrive early and be prepared to wait a bit if you with a large grop. Store front facing Burnet Rd See all photos from Michelle A. for The Factory - Cafe With a Soul \"',\n",
       " ' 4.0 star rating ']"
      ]
     },
     "execution_count": 4,
     "metadata": {},
     "output_type": "execute_result"
    }
   ],
   "source": [
    "formatted_reviews = [r.split(',') for r in review_list]\n",
    "review = namedtuple('review', 'shop_name, review, stars')\n",
    "#We can drop the first row of header data and remove leading/trailing whitespace from the strings\n",
    "reviews = [review(r[0].strip(), r[1].strip(), r[2].strip()) for r in formatted_reviews[1:]]\n",
    "formatted_reviews[5]"
   ]
  },
  {
   "cell_type": "markdown",
   "metadata": {},
   "source": [
    "## Wait what happened?\n",
    "\n",
    "This is a learning tutorial things shouldn't go wrong right? Well in a few places I've left my mistakes in to show where some of my assumptions didn't hold up and what changes had to be made. Ok, so it turns out even though the first few rows of the review dataset seemed to split on commas, we have later rows where users placed commas in their review causing our lists to have more indices available then expected. Because of that when we wanted to transform each row into a namedtuple for easier interaction later we couldn't do that because of index problems. Looking back at the strings it looks like we could potentially make use of \", or ,\" to split the review into the columns we want. Let's try it."
   ]
  },
  {
   "cell_type": "code",
   "execution_count": 5,
   "metadata": {},
   "outputs": [
    {
     "name": "stdout",
     "output_type": "stream",
     "text": [
      "list index out of range\n"
     ]
    }
   ],
   "source": [
    "try:\n",
    "    delimited_reviews = list(map(lambda x: x.replace(',\"','\",'), review_list))\n",
    "    formatted_reviews = [r.split('\",') for r in delimited_reviews]\n",
    "    reviews = [review(r[0].strip(), r[1].strip(), r[2].strip()) for r in formatted_reviews[1:]]\n",
    "except IndexError as e:\n",
    "    print(e)\n",
    "    pass"
   ]
  },
  {
   "cell_type": "markdown",
   "metadata": {},
   "source": [
    "Ok, so that didn't work either, but the dataset said it was delimited by commas. We know there are three columns (store name, review text, rating) that we want so is there something we might be able to do. Finding commas plus another parse step?\n",
    "\n",
    "We have strings, we can make those strings into list, list have indices, we know that index 0 is the store name and the last index is the rating. Ah, knowing that let's trying splitting up each string into the store name, the rating, and then all the other indices are our review text. We can then take and flatten those indices into one row and now we have our store name, rating and review. \n",
    "\n",
    "https://softwareengineering.stackexchange.com/questions/70743/what-does-flatten-mean"
   ]
  },
  {
   "cell_type": "code",
   "execution_count": 6,
   "metadata": {},
   "outputs": [
    {
     "data": {
      "text/plain": [
       "'\" 11/25/2016 1 check-in Love love loved the atmosphere! Every corner of the coffee shop had its own style and there were swings!!! I ordered the matcha latte and it was muy fantastico! Ordering and getting my drink were pretty streamlined. I ordered on an iPad which included all beverage selections that ranged from coffee to wine desired level of sweetness and a checkout system. I got my latte within minutes!  I was hoping for a typical heart or feather on my latte but found myself listing out all the possibilities of what the art may be. Any ideas? \"'"
      ]
     },
     "execution_count": 6,
     "metadata": {},
     "output_type": "execute_result"
    }
   ],
   "source": [
    "stars = [r.split(',')[-1] for r in review_list[1:]]\n",
    "shops = [r.split(',')[0] for r in review_list[1:]]\n",
    "#Put all the data in between the first and last index of the string split into one list per row\n",
    "reviews = [r.split(',')[1:-1] for r in review_list[1:]]\n",
    "#Flatten the list structure so each row is one string containing the review\n",
    "flat_reviews = [''.join(map(str, r)) for r in reviews]\n",
    "flat_reviews[0]"
   ]
  },
  {
   "cell_type": "markdown",
   "metadata": {},
   "source": [
    "## And now we have three\n",
    "\n",
    "But now we have three individual list which means any time we want to access a full row of information we have to look up the data at the specific index in each list. It would be a lot easier if we could put all of this back together into a list of collections (in this case tuples instead of a list of list) where there is one list with all the reviews, and then in each sub list we have the store name, review and rating available for lookup.\n",
    "\n",
    "Enter the handy zip function https://docs.python.org/3.6/library/functions.html#zip"
   ]
  },
  {
   "cell_type": "code",
   "execution_count": 7,
   "metadata": {},
   "outputs": [
    {
     "data": {
      "text/plain": [
       "('The Factory - Cafe With a Soul ',\n",
       " '\" 11/25/2016 1 check-in Love love loved the atmosphere! Every corner of the coffee shop had its own style and there were swings!!! I ordered the matcha latte and it was muy fantastico! Ordering and getting my drink were pretty streamlined. I ordered on an iPad which included all beverage selections that ranged from coffee to wine desired level of sweetness and a checkout system. I got my latte within minutes!  I was hoping for a typical heart or feather on my latte but found myself listing out all the possibilities of what the art may be. Any ideas? \"',\n",
       " ' 5.0 star rating ')"
      ]
     },
     "execution_count": 7,
     "metadata": {},
     "output_type": "execute_result"
    }
   ],
   "source": [
    "formatted_reviews = list(zip(shops, flat_reviews, stars))\n",
    "type(formatted_reviews[0])\n",
    "formatted_reviews[0]"
   ]
  },
  {
   "cell_type": "markdown",
   "metadata": {},
   "source": [
    "Ok, so now we have our rows properly formatted and easily indexable. But sometimes we have data sets with more than three columns. They might have 10, 20 or more. When that happens it's hard to remember what data is at a given index. Instead we can use the named tuple we defined earlier and refer to field/column names instead of specific indices."
   ]
  },
  {
   "cell_type": "code",
   "execution_count": 8,
   "metadata": {},
   "outputs": [
    {
     "name": "stdout",
     "output_type": "stream",
     "text": [
      "Type: <class '__main__.review'>\n",
      "Store: The Factory - Cafe With a Soul Reviews: 5.0 star rating\n",
      "Review: \" 11/25/2016 1 check-in Love love loved the atmosphere! Every corner of the coffee shop had its own style and there were swings!!! I ordered the matcha latte and it was muy fantastico! Ordering and getting my drink were pretty streamlined. I ordered on an iPad which included all beverage selections that ranged from coffee to wine desired level of sweetness and a checkout system. I got my latte within minutes!  I was hoping for a typical heart or feather on my latte but found myself listing out all the possibilities of what the art may be. Any ideas? \"\n"
     ]
    }
   ],
   "source": [
    "reviews = [review(r[0].strip(), r[1].strip(), r[2].strip()) for r in formatted_reviews]\n",
    "print(f\"Type: {type(reviews[0])}\\nStore: {reviews[0].shop_name} Reviews: {reviews[0].stars}\\nReview: {reviews[0].review}\")"
   ]
  },
  {
   "cell_type": "code",
   "execution_count": 9,
   "metadata": {},
   "outputs": [
    {
     "name": "stdout",
     "output_type": "stream",
     "text": [
      "Total Reviews: 7616\n",
      ",Unique Shops: {'Thunderbird Coffee', 'Caffe Medici', 'La Tazza Fresca', 'Flitch Coffee', 'Juan Pelota', 'Friends & Neighbors', 'The Steeping Room', 'CafÃ© CrÃ¨me', 'The Hideout Coffeehouse', 'Live Oak Market', 'TOMS', 'Venezia Italian Gelato', 'Elixer Coffee', 'Quackâ\\x80\\x99s 43rd Street Bakery', 'Houndstooth Coffee', 'Stinsonâ\\x80\\x99s', 'The Factory - Cafe With a Soul', 'Trianon Coffee', 'Vintage Heart Coffee', 'Bennu Coffee', 'The Marvelous Vintage Tea Party Co.', 'Tea Haus', 'Monkey Nest Coffee', 'Fat Cats Organic Coffee And Dessert', '\"Strange Brew', 'Tuscany At 360', 'Genuine Joe', 'My Sweet Austin', 'Holy Grounds', 'Altaâ\\x80\\x99s Cafe', 'Apanas Coffee & Beer', 'Radio Coffee & Beer', 'Fleet Coffee', 'Joâ\\x80\\x99s Coffee', 'Lucky Lab Coffee', 'Mozartâ\\x80\\x99s Coffee Roasters', 'The Buzz Mill', 'CaffÃ© Medici', 'Maryâ\\x80\\x99s Cafe', 'Andersonâ\\x80\\x99s Coffee Company', 'Dolce Neve', 'Summer Moon Coffee Bar', 'Emerald Tavern Games & Cafe', 'Summermoon Coffee Bar', 'Legend Coffee', 'MaÃ±ana Coffee & Juice', 'Dominican Joe', 'Russellâ\\x80\\x99s Bakery', 'Cream Whiskers', 'Halcyon', 'Cenote', 'Once Over Coffee Bar', 'Sa-Ten', 'Sister Coffee', 'Lola Savannah Coffee Downtown', 'Hot Mamaâ\\x80\\x99s Cafe', 'CuvÃ©e Coffee Bar', 'Epoch Coffee', 'Flat Track Coffee', 'Flightpath Coffeehouse', 'Figure 8 Coffee Purveyors', 'Cherrywood Coffeehouse', 'Patika', 'Arturoâ\\x80\\x99s Underground Cafe', 'Brianâ\\x80\\x99s Brew', 'Sorrentoâ\\x80\\x99s Coffee', 'Third Coast Coffee Roasting Company', 'Cafe Ruckus', 'Teo', 'La Patisserie', 'Corona Coffee', 'Irie Bean Coffee Bar', 'Picnik Austin', 'Kowabunga Coffee', 'Pacha', 'Kick Butt Coffee Music & Booze', 'CafÃ© Java', 'Lola Savannah Coffee Lounge', 'Seventh Flag Coffee Co'}\n"
     ]
    }
   ],
   "source": [
    "review_count = len(reviews)\n",
    "#If you want to get a unique set of data move into a set for instance shop names\n",
    "#https://docs.python.org/3.6/library/stdtypes.html?highlight=set#set\n",
    "shops = set([shop.shop_name for shop in reviews])\n",
    "print(f\"Total Reviews: {review_count}\\n,Unique Shops: {shops}\")"
   ]
  },
  {
   "cell_type": "markdown",
   "metadata": {},
   "source": [
    "## Tidying up\n",
    "\n",
    "When we printed the names above it looks like we have characters that are not being parsed right. Since the data.world page doesn't provide any encoding information we could trying changing the enoding on the data set to test if we can find the right encoding. This is error prone and has some dangers. If you want a good read check out https://nedbatchelder.com/text/unipain.html.\n",
    "\n",
    "For now we are going to make use of regular expressions to remove the characters that are not parsing correctly. \n",
    "\n",
    "- https://docs.python.org/3/library/re.html\n",
    "- https://regexr.com/\n",
    "- http://man7.org/linux/man-pages/man7/regex.7.html"
   ]
  },
  {
   "cell_type": "code",
   "execution_count": 10,
   "metadata": {},
   "outputs": [
    {
     "name": "stdout",
     "output_type": "stream",
     "text": [
      "Total Reviews: 7616\n",
      " Unique Shops: ['Thunderbird Coffee', 'Caffe Medici', 'La Tazza Fresca', 'Flitch Coffee', 'Juan Pelota', 'Friends & Neighbors', 'The Steeping Room', 'Caf  Cr me', 'The Hideout Coffeehouse', 'Live Oak Market', 'TOMS', 'Venezia Italian Gelato', 'Elixer Coffee', 'Quack s 43rd Street Bakery', 'Houndstooth Coffee', 'Stinson s', 'The Factory - Cafe With a Soul', 'Trianon Coffee', 'Vintage Heart Coffee', 'Bennu Coffee', 'The Marvelous Vintage Tea Party Co.', 'Tea Haus', 'Monkey Nest Coffee', 'Fat Cats Organic Coffee And Dessert', '\"Strange Brew', 'Tuscany At 360', 'Genuine Joe', 'My Sweet Austin', 'Holy Grounds', 'Alta s Cafe', 'Apanas Coffee & Beer', 'Radio Coffee & Beer', 'Fleet Coffee', 'Jo s Coffee', 'Lucky Lab Coffee', 'Mozart s Coffee Roasters', 'The Buzz Mill', 'Caff  Medici', 'Mary s Cafe', 'Anderson s Coffee Company', 'Dolce Neve', 'Summer Moon Coffee Bar', 'Emerald Tavern Games & Cafe', 'Summermoon Coffee Bar', 'Legend Coffee', 'Ma ana Coffee & Juice', 'Dominican Joe', 'Russell s Bakery', 'Cream Whiskers', 'Halcyon', 'Cenote', 'Once Over Coffee Bar', 'Sa-Ten', 'Sister Coffee', 'Lola Savannah Coffee Downtown', 'Hot Mama s Cafe', 'Cuv e Coffee Bar', 'Epoch Coffee', 'Flat Track Coffee', 'Flightpath Coffeehouse', 'Figure 8 Coffee Purveyors', 'Cherrywood Coffeehouse', 'Patika', 'Arturo s Underground Cafe', 'Brian s Brew', 'Sorrento s Coffee', 'Third Coast Coffee Roasting Company', 'Cafe Ruckus', 'Teo', 'La Patisserie', 'Corona Coffee', 'Irie Bean Coffee Bar', 'Picnik Austin', 'Kowabunga Coffee', 'Pacha', 'Kick Butt Coffee Music & Booze', 'Caf  Java', 'Lola Savannah Coffee Lounge', 'Seventh Flag Coffee Co']\n"
     ]
    }
   ],
   "source": [
    "scrubbed = [re.sub(r'[^\\x00-\\x7F]+',' ', shop) for shop in shops]\n",
    "print(f\"Total Reviews: {review_count}\\n Unique Shops: {scrubbed}\")"
   ]
  },
  {
   "cell_type": "markdown",
   "metadata": {},
   "source": [
    "## Checkpoint\n",
    "\n",
    "Ok, we've got our data in a nice format. We've done a lot of work to reach this point. Let's make sure we can get back to this data easily by storing it in a database. \n",
    "\n",
    "Out of the box Python comes with SQLite bundled into the standard library. This is a really handy tool to know about and make use of. For more information about sqlite and the python module checkout:\n",
    "\n",
    "- https://sqlite.org/\n",
    "- https://docs.python.org/3.6/library/sqlite3.html"
   ]
  },
  {
   "cell_type": "code",
   "execution_count": 11,
   "metadata": {},
   "outputs": [
    {
     "data": {
      "text/plain": [
       "<sqlite3.Cursor at 0x7fd6e1491e30>"
      ]
     },
     "execution_count": 11,
     "metadata": {},
     "output_type": "execute_result"
    }
   ],
   "source": [
    "conn = sqlite3.connect('austin_reviews.db')\n",
    "cur = conn.cursor() \n",
    "cur.execute('''CREATE TABLE reviews (store TEXT, review TEXT, raw_score TEXT)''')"
   ]
  },
  {
   "cell_type": "code",
   "execution_count": 12,
   "metadata": {
    "collapsed": true
   },
   "outputs": [],
   "source": [
    "for review in reviews:\n",
    "  cur.execute('INSERT INTO reviews VALUES (?,?,?)', review)\n",
    "conn.commit()"
   ]
  },
  {
   "cell_type": "code",
   "execution_count": 13,
   "metadata": {},
   "outputs": [
    {
     "name": "stdout",
     "output_type": "stream",
     "text": [
      "('5.0 star rating',)\n",
      "('4.0 star rating',)\n",
      "('4.0 star rating',)\n",
      "('2.0 star rating',)\n",
      "('4.0 star rating',)\n"
     ]
    }
   ],
   "source": [
    "results = cur.execute('SELECT raw_score FROM reviews LIMIT 5;')\n",
    "try:\n",
    "    first_row = next(results)\n",
    "    for row in chain((first_row,), results):\n",
    "        print(row)\n",
    "except StopIteration as e:\n",
    "    pass"
   ]
  },
  {
   "cell_type": "markdown",
   "metadata": {},
   "source": [
    "## We missed something\n",
    "\n",
    "What if I want to quickly calculate an average score from the reviews. Turns out our rating field has the string \"star rating\" embedded in it. Lets rip that out and just keep the actual score so that we can perform different calculations with the rating without having to remove the \"star rating\" string each time."
   ]
  },
  {
   "cell_type": "code",
   "execution_count": 14,
   "metadata": {},
   "outputs": [
    {
     "name": "stdout",
     "output_type": "stream",
     "text": [
      "Total review scores in Austion 7616\n",
      "Average score for Austion: 4.169117647058823\n"
     ]
    }
   ],
   "source": [
    "austin_scores = [re.findall(r'\\d+\\.\\d+', review.stars) for review in reviews]\n",
    "flattened_scores = list(chain.from_iterable(austin_scores))\n",
    "flattened_scores = [float(score) for score in flattened_scores]\n",
    "average_austin = sum(flattened_scores) / len(austin_scores)\n",
    "print(f\"Total review scores in Austion {len(austin_scores)}\\nAverage score for Austion: {average_austin}\")"
   ]
  },
  {
   "cell_type": "markdown",
   "metadata": {},
   "source": [
    "## That's nice, but.....\n",
    "\n",
    "But now we have a field that isn't part of our named tuple, and isn't in our database. Let's fix both of those problems. First we need to defined a new named tuple and then iterate over our old tuple and rating to move it into a new structure with the new field.\n",
    "\n",
    "Once we've done that we also want to store this in our database for long term use and sharing. We can update our table with an additional field, truncate the table data (remove all the old data) and load in the reformatted dataset."
   ]
  },
  {
   "cell_type": "code",
   "execution_count": 15,
   "metadata": {
    "collapsed": true
   },
   "outputs": [],
   "source": [
    "reviews_final = list(zip(reviews, flattened_scores))\n",
    "review_with_rating = namedtuple('review', 'shop_name, review, stars, rating')\n",
    "send_to_sql = []\n",
    "for r in reviews_final:\n",
    "    send_to_sql.append(review_with_rating(r[0].shop_name, r[0].review, r[0].stars, r[1]))"
   ]
  },
  {
   "cell_type": "code",
   "execution_count": 16,
   "metadata": {
    "collapsed": true
   },
   "outputs": [],
   "source": [
    "#cur = conn.cursor() \n",
    "cur.execute('''ALTER TABLE reviews ADD rating REAL;''')\n",
    "conn.commit()\n",
    "cur.execute('''DELETE FROM reviews;''')\n",
    "conn.commit()"
   ]
  },
  {
   "cell_type": "code",
   "execution_count": 17,
   "metadata": {
    "collapsed": true
   },
   "outputs": [],
   "source": [
    "for review in send_to_sql:\n",
    "    cur.execute(\"INSERT INTO reviews VALUES (?,?,?,?)\", review)\n",
    "conn.commit()"
   ]
  },
  {
   "cell_type": "code",
   "execution_count": 18,
   "metadata": {},
   "outputs": [
    {
     "name": "stdout",
     "output_type": "stream",
     "text": [
      "(31752.0,)\n"
     ]
    }
   ],
   "source": [
    "result = cur.execute('SELECT SUM(rating) FROM reviews')\n",
    "try:\n",
    "    first_row = next(result)\n",
    "    for row in chain((first_row,), result):\n",
    "        print(row)\n",
    "except StopIteration as e:\n",
    "    pass"
   ]
  },
  {
   "cell_type": "code",
   "execution_count": 19,
   "metadata": {},
   "outputs": [
    {
     "data": {
      "text/plain": [
       "('The Marvelous Vintage Tea Party Co.', 5.0)"
      ]
     },
     "execution_count": 19,
     "metadata": {},
     "output_type": "execute_result"
    }
   ],
   "source": [
    "cur.execute('''CREATE INDEX store_idx on reviews(store);''')\n",
    "conn.commit()\n",
    "avg_store_review = cur.execute('SELECT store, AVG(rating) as rating FROM reviews GROUP BY store ORDER BY rating DESC')\n",
    "avg_scores = []\n",
    "try:\n",
    "    first_row = next(avg_store_review)\n",
    "    for row in chain((first_row,), avg_store_review):\n",
    "        avg_scores.append(row)\n",
    "except StopIteration as e:\n",
    "    pass\n",
    "avg_scores[1]"
   ]
  },
  {
   "cell_type": "markdown",
   "metadata": {},
   "source": [
    "## Let's visualize\n",
    "\n",
    "Ok, so far we have pulled data from the data.world api, converted it into a python collection that is easy for us to work with and manipulate, and loaded it into a database for easy sharing and recall at a later time.\n",
    "\n",
    "Now let's visualize the data using Bokeh. Let's do something simple and show the top 10 and bottom 10 reviews on a simple vertical bar chart. \n",
    "\n",
    "### Warning Bokeh had a breaking change in their API in March of 2017 release 0.12.5\n",
    "That means many stackoverflow post and older documentation that you might find will not work on newer releases of Bokeh. Because of that make sure to pay attention to dates and Bokeh versions in post you come across. Specifically the bokeh.charts module was frequently used and has been removed. \n",
    "\n",
    "For more information read the below:\n",
    "- https://bokeh.pydata.org/en/latest/docs/releases/0.12.5.html\n",
    "- https://bokeh.pydata.org/en/latest/docs/user_guide.html"
   ]
  },
  {
   "cell_type": "code",
   "execution_count": 20,
   "metadata": {},
   "outputs": [
    {
     "data": {
      "text/html": [
       "\n",
       "    <div class=\"bk-root\">\n",
       "        <a href=\"https://bokeh.pydata.org\" target=\"_blank\" class=\"bk-logo bk-logo-small bk-logo-notebook\"></a>\n",
       "        <span id=\"7fa463c0-7faa-4e3c-99bd-223e3bc219c3\">Loading BokehJS ...</span>\n",
       "    </div>"
      ]
     },
     "metadata": {},
     "output_type": "display_data"
    },
    {
     "data": {
      "application/javascript": [
       "\n",
       "(function(root) {\n",
       "  function now() {\n",
       "    return new Date();\n",
       "  }\n",
       "\n",
       "  var force = true;\n",
       "\n",
       "  if (typeof (root._bokeh_onload_callbacks) === \"undefined\" || force === true) {\n",
       "    root._bokeh_onload_callbacks = [];\n",
       "    root._bokeh_is_loading = undefined;\n",
       "  }\n",
       "\n",
       "  var JS_MIME_TYPE = 'application/javascript';\n",
       "  var HTML_MIME_TYPE = 'text/html';\n",
       "  var EXEC_MIME_TYPE = 'application/vnd.bokehjs_exec.v0+json';\n",
       "  var CLASS_NAME = 'output_bokeh rendered_html';\n",
       "\n",
       "  /**\n",
       "   * Render data to the DOM node\n",
       "   */\n",
       "  function render(props, node) {\n",
       "    var script = document.createElement(\"script\");\n",
       "    node.appendChild(script);\n",
       "  }\n",
       "\n",
       "  /**\n",
       "   * Handle when an output is cleared or removed\n",
       "   */\n",
       "  function handleClearOutput(event, handle) {\n",
       "    var cell = handle.cell;\n",
       "\n",
       "    var id = cell.output_area._bokeh_element_id;\n",
       "    var server_id = cell.output_area._bokeh_server_id;\n",
       "    // Clean up Bokeh references\n",
       "    if (id !== undefined) {\n",
       "      Bokeh.index[id].model.document.clear();\n",
       "      delete Bokeh.index[id];\n",
       "    }\n",
       "\n",
       "    if (server_id !== undefined) {\n",
       "      // Clean up Bokeh references\n",
       "      var cmd = \"from bokeh.io.state import curstate; print(curstate().uuid_to_server['\" + server_id + \"'].get_sessions()[0].document.roots[0]._id)\";\n",
       "      cell.notebook.kernel.execute(cmd, {\n",
       "        iopub: {\n",
       "          output: function(msg) {\n",
       "            var element_id = msg.content.text.trim();\n",
       "            Bokeh.index[element_id].model.document.clear();\n",
       "            delete Bokeh.index[element_id];\n",
       "          }\n",
       "        }\n",
       "      });\n",
       "      // Destroy server and session\n",
       "      var cmd = \"import bokeh.io.notebook as ion; ion.destroy_server('\" + server_id + \"')\";\n",
       "      cell.notebook.kernel.execute(cmd);\n",
       "    }\n",
       "  }\n",
       "\n",
       "  /**\n",
       "   * Handle when a new output is added\n",
       "   */\n",
       "  function handleAddOutput(event, handle) {\n",
       "    var output_area = handle.output_area;\n",
       "    var output = handle.output;\n",
       "\n",
       "    // limit handleAddOutput to display_data with EXEC_MIME_TYPE content only\n",
       "    if ((output.output_type != \"display_data\") || (!output.data.hasOwnProperty(EXEC_MIME_TYPE))) {\n",
       "      return\n",
       "    }\n",
       "\n",
       "    var toinsert = output_area.element.find(`.${CLASS_NAME.split(' ')[0]}`);\n",
       "\n",
       "    if (output.metadata[EXEC_MIME_TYPE][\"id\"] !== undefined) {\n",
       "      toinsert[0].firstChild.textContent = output.data[JS_MIME_TYPE];\n",
       "      // store reference to embed id on output_area\n",
       "      output_area._bokeh_element_id = output.metadata[EXEC_MIME_TYPE][\"id\"];\n",
       "    }\n",
       "    if (output.metadata[EXEC_MIME_TYPE][\"server_id\"] !== undefined) {\n",
       "      var bk_div = document.createElement(\"div\");\n",
       "      bk_div.innerHTML = output.data[HTML_MIME_TYPE];\n",
       "      var script_attrs = bk_div.children[0].attributes;\n",
       "      for (var i = 0; i < script_attrs.length; i++) {\n",
       "        toinsert[0].firstChild.setAttribute(script_attrs[i].name, script_attrs[i].value);\n",
       "      }\n",
       "      // store reference to server id on output_area\n",
       "      output_area._bokeh_server_id = output.metadata[EXEC_MIME_TYPE][\"server_id\"];\n",
       "    }\n",
       "  }\n",
       "\n",
       "  function register_renderer(events, OutputArea) {\n",
       "\n",
       "    function append_mime(data, metadata, element) {\n",
       "      // create a DOM node to render to\n",
       "      var toinsert = this.create_output_subarea(\n",
       "        metadata,\n",
       "        CLASS_NAME,\n",
       "        EXEC_MIME_TYPE\n",
       "      );\n",
       "      this.keyboard_manager.register_events(toinsert);\n",
       "      // Render to node\n",
       "      var props = {data: data, metadata: metadata[EXEC_MIME_TYPE]};\n",
       "      render(props, toinsert[0]);\n",
       "      element.append(toinsert);\n",
       "      return toinsert\n",
       "    }\n",
       "\n",
       "    /* Handle when an output is cleared or removed */\n",
       "    events.on('clear_output.CodeCell', handleClearOutput);\n",
       "    events.on('delete.Cell', handleClearOutput);\n",
       "\n",
       "    /* Handle when a new output is added */\n",
       "    events.on('output_added.OutputArea', handleAddOutput);\n",
       "\n",
       "    /**\n",
       "     * Register the mime type and append_mime function with output_area\n",
       "     */\n",
       "    OutputArea.prototype.register_mime_type(EXEC_MIME_TYPE, append_mime, {\n",
       "      /* Is output safe? */\n",
       "      safe: true,\n",
       "      /* Index of renderer in `output_area.display_order` */\n",
       "      index: 0\n",
       "    });\n",
       "  }\n",
       "\n",
       "  // register the mime type if in Jupyter Notebook environment and previously unregistered\n",
       "  if (root.Jupyter !== undefined) {\n",
       "    var events = require('base/js/events');\n",
       "    var OutputArea = require('notebook/js/outputarea').OutputArea;\n",
       "\n",
       "    if (OutputArea.prototype.mime_types().indexOf(EXEC_MIME_TYPE) == -1) {\n",
       "      register_renderer(events, OutputArea);\n",
       "    }\n",
       "  }\n",
       "\n",
       "  \n",
       "  if (typeof (root._bokeh_timeout) === \"undefined\" || force === true) {\n",
       "    root._bokeh_timeout = Date.now() + 5000;\n",
       "    root._bokeh_failed_load = false;\n",
       "  }\n",
       "\n",
       "  var NB_LOAD_WARNING = {'data': {'text/html':\n",
       "     \"<div style='background-color: #fdd'>\\n\"+\n",
       "     \"<p>\\n\"+\n",
       "     \"BokehJS does not appear to have successfully loaded. If loading BokehJS from CDN, this \\n\"+\n",
       "     \"may be due to a slow or bad network connection. Possible fixes:\\n\"+\n",
       "     \"</p>\\n\"+\n",
       "     \"<ul>\\n\"+\n",
       "     \"<li>re-rerun `output_notebook()` to attempt to load from CDN again, or</li>\\n\"+\n",
       "     \"<li>use INLINE resources instead, as so:</li>\\n\"+\n",
       "     \"</ul>\\n\"+\n",
       "     \"<code>\\n\"+\n",
       "     \"from bokeh.resources import INLINE\\n\"+\n",
       "     \"output_notebook(resources=INLINE)\\n\"+\n",
       "     \"</code>\\n\"+\n",
       "     \"</div>\"}};\n",
       "\n",
       "  function display_loaded() {\n",
       "    var el = document.getElementById(\"7fa463c0-7faa-4e3c-99bd-223e3bc219c3\");\n",
       "    if (el != null) {\n",
       "      el.textContent = \"BokehJS is loading...\";\n",
       "    }\n",
       "    if (root.Bokeh !== undefined) {\n",
       "      if (el != null) {\n",
       "        el.textContent = \"BokehJS \" + root.Bokeh.version + \" successfully loaded.\";\n",
       "      }\n",
       "    } else if (Date.now() < root._bokeh_timeout) {\n",
       "      setTimeout(display_loaded, 100)\n",
       "    }\n",
       "  }\n",
       "\n",
       "\n",
       "  function run_callbacks() {\n",
       "    try {\n",
       "      root._bokeh_onload_callbacks.forEach(function(callback) { callback() });\n",
       "    }\n",
       "    finally {\n",
       "      delete root._bokeh_onload_callbacks\n",
       "    }\n",
       "    console.info(\"Bokeh: all callbacks have finished\");\n",
       "  }\n",
       "\n",
       "  function load_libs(js_urls, callback) {\n",
       "    root._bokeh_onload_callbacks.push(callback);\n",
       "    if (root._bokeh_is_loading > 0) {\n",
       "      console.log(\"Bokeh: BokehJS is being loaded, scheduling callback at\", now());\n",
       "      return null;\n",
       "    }\n",
       "    if (js_urls == null || js_urls.length === 0) {\n",
       "      run_callbacks();\n",
       "      return null;\n",
       "    }\n",
       "    console.log(\"Bokeh: BokehJS not loaded, scheduling load and callback at\", now());\n",
       "    root._bokeh_is_loading = js_urls.length;\n",
       "    for (var i = 0; i < js_urls.length; i++) {\n",
       "      var url = js_urls[i];\n",
       "      var s = document.createElement('script');\n",
       "      s.src = url;\n",
       "      s.async = false;\n",
       "      s.onreadystatechange = s.onload = function() {\n",
       "        root._bokeh_is_loading--;\n",
       "        if (root._bokeh_is_loading === 0) {\n",
       "          console.log(\"Bokeh: all BokehJS libraries loaded\");\n",
       "          run_callbacks()\n",
       "        }\n",
       "      };\n",
       "      s.onerror = function() {\n",
       "        console.warn(\"failed to load library \" + url);\n",
       "      };\n",
       "      console.log(\"Bokeh: injecting script tag for BokehJS library: \", url);\n",
       "      document.getElementsByTagName(\"head\")[0].appendChild(s);\n",
       "    }\n",
       "  };var element = document.getElementById(\"7fa463c0-7faa-4e3c-99bd-223e3bc219c3\");\n",
       "  if (element == null) {\n",
       "    console.log(\"Bokeh: ERROR: autoload.js configured with elementid '7fa463c0-7faa-4e3c-99bd-223e3bc219c3' but no matching script tag was found. \")\n",
       "    return false;\n",
       "  }\n",
       "\n",
       "  var js_urls = [\"https://cdn.pydata.org/bokeh/release/bokeh-0.12.10.min.js\", \"https://cdn.pydata.org/bokeh/release/bokeh-widgets-0.12.10.min.js\", \"https://cdn.pydata.org/bokeh/release/bokeh-tables-0.12.10.min.js\", \"https://cdn.pydata.org/bokeh/release/bokeh-gl-0.12.10.min.js\"];\n",
       "\n",
       "  var inline_js = [\n",
       "    function(Bokeh) {\n",
       "      Bokeh.set_log_level(\"info\");\n",
       "    },\n",
       "    \n",
       "    function(Bokeh) {\n",
       "      \n",
       "    },\n",
       "    function(Bokeh) {\n",
       "      console.log(\"Bokeh: injecting CSS: https://cdn.pydata.org/bokeh/release/bokeh-0.12.10.min.css\");\n",
       "      Bokeh.embed.inject_css(\"https://cdn.pydata.org/bokeh/release/bokeh-0.12.10.min.css\");\n",
       "      console.log(\"Bokeh: injecting CSS: https://cdn.pydata.org/bokeh/release/bokeh-widgets-0.12.10.min.css\");\n",
       "      Bokeh.embed.inject_css(\"https://cdn.pydata.org/bokeh/release/bokeh-widgets-0.12.10.min.css\");\n",
       "      console.log(\"Bokeh: injecting CSS: https://cdn.pydata.org/bokeh/release/bokeh-tables-0.12.10.min.css\");\n",
       "      Bokeh.embed.inject_css(\"https://cdn.pydata.org/bokeh/release/bokeh-tables-0.12.10.min.css\");\n",
       "    }\n",
       "  ];\n",
       "\n",
       "  function run_inline_js() {\n",
       "    \n",
       "    if ((root.Bokeh !== undefined) || (force === true)) {\n",
       "      for (var i = 0; i < inline_js.length; i++) {\n",
       "        inline_js[i].call(root, root.Bokeh);\n",
       "      }if (force === true) {\n",
       "        display_loaded();\n",
       "      }} else if (Date.now() < root._bokeh_timeout) {\n",
       "      setTimeout(run_inline_js, 100);\n",
       "    } else if (!root._bokeh_failed_load) {\n",
       "      console.log(\"Bokeh: BokehJS failed to load within specified timeout.\");\n",
       "      root._bokeh_failed_load = true;\n",
       "    } else if (force !== true) {\n",
       "      var cell = $(document.getElementById(\"7fa463c0-7faa-4e3c-99bd-223e3bc219c3\")).parents('.cell').data().cell;\n",
       "      cell.output_area.append_execute_result(NB_LOAD_WARNING)\n",
       "    }\n",
       "\n",
       "  }\n",
       "\n",
       "  if (root._bokeh_is_loading === 0) {\n",
       "    console.log(\"Bokeh: BokehJS loaded, going straight to plotting\");\n",
       "    run_inline_js();\n",
       "  } else {\n",
       "    load_libs(js_urls, function() {\n",
       "      console.log(\"Bokeh: BokehJS plotting callback run at\", now());\n",
       "      run_inline_js();\n",
       "    });\n",
       "  }\n",
       "}(window));"
      ],
      "application/vnd.bokehjs_load.v0+json": "\n(function(root) {\n  function now() {\n    return new Date();\n  }\n\n  var force = true;\n\n  if (typeof (root._bokeh_onload_callbacks) === \"undefined\" || force === true) {\n    root._bokeh_onload_callbacks = [];\n    root._bokeh_is_loading = undefined;\n  }\n\n  \n\n  \n  if (typeof (root._bokeh_timeout) === \"undefined\" || force === true) {\n    root._bokeh_timeout = Date.now() + 5000;\n    root._bokeh_failed_load = false;\n  }\n\n  var NB_LOAD_WARNING = {'data': {'text/html':\n     \"<div style='background-color: #fdd'>\\n\"+\n     \"<p>\\n\"+\n     \"BokehJS does not appear to have successfully loaded. If loading BokehJS from CDN, this \\n\"+\n     \"may be due to a slow or bad network connection. Possible fixes:\\n\"+\n     \"</p>\\n\"+\n     \"<ul>\\n\"+\n     \"<li>re-rerun `output_notebook()` to attempt to load from CDN again, or</li>\\n\"+\n     \"<li>use INLINE resources instead, as so:</li>\\n\"+\n     \"</ul>\\n\"+\n     \"<code>\\n\"+\n     \"from bokeh.resources import INLINE\\n\"+\n     \"output_notebook(resources=INLINE)\\n\"+\n     \"</code>\\n\"+\n     \"</div>\"}};\n\n  function display_loaded() {\n    var el = document.getElementById(\"7fa463c0-7faa-4e3c-99bd-223e3bc219c3\");\n    if (el != null) {\n      el.textContent = \"BokehJS is loading...\";\n    }\n    if (root.Bokeh !== undefined) {\n      if (el != null) {\n        el.textContent = \"BokehJS \" + root.Bokeh.version + \" successfully loaded.\";\n      }\n    } else if (Date.now() < root._bokeh_timeout) {\n      setTimeout(display_loaded, 100)\n    }\n  }\n\n\n  function run_callbacks() {\n    try {\n      root._bokeh_onload_callbacks.forEach(function(callback) { callback() });\n    }\n    finally {\n      delete root._bokeh_onload_callbacks\n    }\n    console.info(\"Bokeh: all callbacks have finished\");\n  }\n\n  function load_libs(js_urls, callback) {\n    root._bokeh_onload_callbacks.push(callback);\n    if (root._bokeh_is_loading > 0) {\n      console.log(\"Bokeh: BokehJS is being loaded, scheduling callback at\", now());\n      return null;\n    }\n    if (js_urls == null || js_urls.length === 0) {\n      run_callbacks();\n      return null;\n    }\n    console.log(\"Bokeh: BokehJS not loaded, scheduling load and callback at\", now());\n    root._bokeh_is_loading = js_urls.length;\n    for (var i = 0; i < js_urls.length; i++) {\n      var url = js_urls[i];\n      var s = document.createElement('script');\n      s.src = url;\n      s.async = false;\n      s.onreadystatechange = s.onload = function() {\n        root._bokeh_is_loading--;\n        if (root._bokeh_is_loading === 0) {\n          console.log(\"Bokeh: all BokehJS libraries loaded\");\n          run_callbacks()\n        }\n      };\n      s.onerror = function() {\n        console.warn(\"failed to load library \" + url);\n      };\n      console.log(\"Bokeh: injecting script tag for BokehJS library: \", url);\n      document.getElementsByTagName(\"head\")[0].appendChild(s);\n    }\n  };var element = document.getElementById(\"7fa463c0-7faa-4e3c-99bd-223e3bc219c3\");\n  if (element == null) {\n    console.log(\"Bokeh: ERROR: autoload.js configured with elementid '7fa463c0-7faa-4e3c-99bd-223e3bc219c3' but no matching script tag was found. \")\n    return false;\n  }\n\n  var js_urls = [\"https://cdn.pydata.org/bokeh/release/bokeh-0.12.10.min.js\", \"https://cdn.pydata.org/bokeh/release/bokeh-widgets-0.12.10.min.js\", \"https://cdn.pydata.org/bokeh/release/bokeh-tables-0.12.10.min.js\", \"https://cdn.pydata.org/bokeh/release/bokeh-gl-0.12.10.min.js\"];\n\n  var inline_js = [\n    function(Bokeh) {\n      Bokeh.set_log_level(\"info\");\n    },\n    \n    function(Bokeh) {\n      \n    },\n    function(Bokeh) {\n      console.log(\"Bokeh: injecting CSS: https://cdn.pydata.org/bokeh/release/bokeh-0.12.10.min.css\");\n      Bokeh.embed.inject_css(\"https://cdn.pydata.org/bokeh/release/bokeh-0.12.10.min.css\");\n      console.log(\"Bokeh: injecting CSS: https://cdn.pydata.org/bokeh/release/bokeh-widgets-0.12.10.min.css\");\n      Bokeh.embed.inject_css(\"https://cdn.pydata.org/bokeh/release/bokeh-widgets-0.12.10.min.css\");\n      console.log(\"Bokeh: injecting CSS: https://cdn.pydata.org/bokeh/release/bokeh-tables-0.12.10.min.css\");\n      Bokeh.embed.inject_css(\"https://cdn.pydata.org/bokeh/release/bokeh-tables-0.12.10.min.css\");\n    }\n  ];\n\n  function run_inline_js() {\n    \n    if ((root.Bokeh !== undefined) || (force === true)) {\n      for (var i = 0; i < inline_js.length; i++) {\n        inline_js[i].call(root, root.Bokeh);\n      }if (force === true) {\n        display_loaded();\n      }} else if (Date.now() < root._bokeh_timeout) {\n      setTimeout(run_inline_js, 100);\n    } else if (!root._bokeh_failed_load) {\n      console.log(\"Bokeh: BokehJS failed to load within specified timeout.\");\n      root._bokeh_failed_load = true;\n    } else if (force !== true) {\n      var cell = $(document.getElementById(\"7fa463c0-7faa-4e3c-99bd-223e3bc219c3\")).parents('.cell').data().cell;\n      cell.output_area.append_execute_result(NB_LOAD_WARNING)\n    }\n\n  }\n\n  if (root._bokeh_is_loading === 0) {\n    console.log(\"Bokeh: BokehJS loaded, going straight to plotting\");\n    run_inline_js();\n  } else {\n    load_libs(js_urls, function() {\n      console.log(\"Bokeh: BokehJS plotting callback run at\", now());\n      run_inline_js();\n    });\n  }\n}(window));"
     },
     "metadata": {},
     "output_type": "display_data"
    },
    {
     "data": {
      "text/html": [
       "\n",
       "<div class=\"bk-root\">\n",
       "    <div class=\"bk-plotdiv\" id=\"cffbaaf6-a9dd-426a-8e96-52408ecbb5de\"></div>\n",
       "</div>"
      ]
     },
     "metadata": {},
     "output_type": "display_data"
    },
    {
     "data": {
      "application/javascript": [
       "(function(root) {\n",
       "  function embed_document(root) {\n",
       "    var docs_json = {\"d7e4d337-aa9e-48ac-a5b4-9f6a1dbf0ca3\":{\"roots\":{\"references\":[{\"attributes\":{},\"id\":\"c1fa7208-9310-41f1-8beb-1e59fdb6498e\",\"type\":\"BasicTicker\"},{\"attributes\":{\"dimension\":1,\"plot\":{\"id\":\"904e1960-c29d-4db0-8d38-be334683380a\",\"subtype\":\"Figure\",\"type\":\"Plot\"},\"ticker\":{\"id\":\"c1fa7208-9310-41f1-8beb-1e59fdb6498e\",\"type\":\"BasicTicker\"}},\"id\":\"3cfedb23-477d-4dc9-88bc-bbecec9da468\",\"type\":\"Grid\"},{\"attributes\":{\"grid_line_color\":{\"value\":null},\"plot\":{\"id\":\"904e1960-c29d-4db0-8d38-be334683380a\",\"subtype\":\"Figure\",\"type\":\"Plot\"},\"ticker\":{\"id\":\"2f3f9d66-821c-4214-916e-6c87fb6f3136\",\"type\":\"CategoricalTicker\"}},\"id\":\"b675c8f1-eb08-421d-bacf-b39ce09ddef0\",\"type\":\"Grid\"},{\"attributes\":{},\"id\":\"1ccb08d7-b072-4a42-bc63-e888b127f57f\",\"type\":\"CategoricalScale\"},{\"attributes\":{},\"id\":\"10dad85c-14f2-4a17-9d02-72f2f7da8bff\",\"type\":\"LinearScale\"},{\"attributes\":{\"active_drag\":\"auto\",\"active_inspect\":\"auto\",\"active_scroll\":\"auto\",\"active_tap\":\"auto\"},\"id\":\"fc085203-90c1-4d5f-b2a5-3db0db88774c\",\"type\":\"Toolbar\"},{\"attributes\":{\"fill_color\":{\"value\":\"#4BC246\"},\"line_color\":{\"value\":\"#4BC246\"},\"top\":{\"field\":\"top\"},\"width\":{\"value\":0.9},\"x\":{\"field\":\"x\"}},\"id\":\"7a56d921-0781-4c4d-a8f1-80ca25dbec6b\",\"type\":\"VBar\"},{\"attributes\":{\"callback\":null,\"start\":0},\"id\":\"3e3cb53f-bed6-4698-ae56-799af2b3a376\",\"type\":\"DataRange1d\"},{\"attributes\":{},\"id\":\"1f1b1bc3-5cf3-4d0f-badf-48958c6cc4c2\",\"type\":\"BasicTickFormatter\"},{\"attributes\":{\"callback\":null,\"factors\":[\"Lola Savannah Coffee Downtown\",\"The Marvelous Vintage Tea Party Co.\",\"Ma\\u00c3\\u00b1ana Coffee & Juice\",\"Brian\\u00e2\\u0080\\u0099s Brew\",\"Flitch Coffee\",\"Third Coast Coffee Roasting Company\",\"Kowabunga Coffee\",\"Venezia Italian Gelato\",\"Legend Coffee\",\"Fleet Coffee\"]},\"id\":\"0d4c8af9-3234-43ec-9271-f8c3efb2770e\",\"type\":\"FactorRange\"},{\"attributes\":{\"data_source\":{\"id\":\"4b34df76-6399-48f3-af4c-1c8bc426b10f\",\"type\":\"ColumnDataSource\"},\"glyph\":{\"id\":\"7a56d921-0781-4c4d-a8f1-80ca25dbec6b\",\"type\":\"VBar\"},\"hover_glyph\":null,\"muted_glyph\":null,\"nonselection_glyph\":{\"id\":\"9a9a30b3-64c4-45a0-8b00-b3b7fa09aff1\",\"type\":\"VBar\"},\"selection_glyph\":null,\"view\":{\"id\":\"ab0f33d4-c974-42ef-847c-de0a9115426b\",\"type\":\"CDSView\"}},\"id\":\"3a377049-891c-4b52-b18a-030de46693bc\",\"type\":\"GlyphRenderer\"},{\"attributes\":{\"callback\":null,\"column_names\":[\"x\",\"top\"],\"data\":{\"top\":[5.0,5.0,4.848484848484849,4.844444444444444,4.821428571428571,4.821428571428571,4.8125,4.81,4.714285714285714,4.701754385964913],\"x\":[\"Lola Savannah Coffee Downtown\",\"The Marvelous Vintage Tea Party Co.\",\"Ma\\u00c3\\u00b1ana Coffee & Juice\",\"Brian\\u00e2\\u0080\\u0099s Brew\",\"Flitch Coffee\",\"Third Coast Coffee Roasting Company\",\"Kowabunga Coffee\",\"Venezia Italian Gelato\",\"Legend Coffee\",\"Fleet Coffee\"]}},\"id\":\"4b34df76-6399-48f3-af4c-1c8bc426b10f\",\"type\":\"ColumnDataSource\"},{\"attributes\":{\"below\":[{\"id\":\"8971c932-f009-4aef-b5d5-72d695c48208\",\"type\":\"CategoricalAxis\"}],\"left\":[{\"id\":\"6cd4cbc9-e174-40c7-a785-0dc409371c8d\",\"type\":\"LinearAxis\"}],\"plot_height\":400,\"plot_width\":800,\"renderers\":[{\"id\":\"8971c932-f009-4aef-b5d5-72d695c48208\",\"type\":\"CategoricalAxis\"},{\"id\":\"b675c8f1-eb08-421d-bacf-b39ce09ddef0\",\"type\":\"Grid\"},{\"id\":\"6cd4cbc9-e174-40c7-a785-0dc409371c8d\",\"type\":\"LinearAxis\"},{\"id\":\"3cfedb23-477d-4dc9-88bc-bbecec9da468\",\"type\":\"Grid\"},{\"id\":\"3a377049-891c-4b52-b18a-030de46693bc\",\"type\":\"GlyphRenderer\"}],\"title\":{\"id\":\"6e41e0f1-bfb9-4543-ac18-17cde2c2b4c6\",\"type\":\"Title\"},\"toolbar\":{\"id\":\"fc085203-90c1-4d5f-b2a5-3db0db88774c\",\"type\":\"Toolbar\"},\"toolbar_location\":null,\"x_range\":{\"id\":\"0d4c8af9-3234-43ec-9271-f8c3efb2770e\",\"type\":\"FactorRange\"},\"x_scale\":{\"id\":\"1ccb08d7-b072-4a42-bc63-e888b127f57f\",\"type\":\"CategoricalScale\"},\"y_range\":{\"id\":\"3e3cb53f-bed6-4698-ae56-799af2b3a376\",\"type\":\"DataRange1d\"},\"y_scale\":{\"id\":\"10dad85c-14f2-4a17-9d02-72f2f7da8bff\",\"type\":\"LinearScale\"}},\"id\":\"904e1960-c29d-4db0-8d38-be334683380a\",\"subtype\":\"Figure\",\"type\":\"Plot\"},{\"attributes\":{\"plot\":null,\"text\":\"Top 10 Average Scores\"},\"id\":\"6e41e0f1-bfb9-4543-ac18-17cde2c2b4c6\",\"type\":\"Title\"},{\"attributes\":{\"formatter\":{\"id\":\"1f1b1bc3-5cf3-4d0f-badf-48958c6cc4c2\",\"type\":\"BasicTickFormatter\"},\"major_label_orientation\":\"horizontal\",\"plot\":{\"id\":\"904e1960-c29d-4db0-8d38-be334683380a\",\"subtype\":\"Figure\",\"type\":\"Plot\"},\"ticker\":{\"id\":\"c1fa7208-9310-41f1-8beb-1e59fdb6498e\",\"type\":\"BasicTicker\"}},\"id\":\"6cd4cbc9-e174-40c7-a785-0dc409371c8d\",\"type\":\"LinearAxis\"},{\"attributes\":{\"formatter\":{\"id\":\"8cbe09ab-5d55-4f34-a1d4-42d977a69290\",\"type\":\"CategoricalTickFormatter\"},\"major_label_orientation\":0.7853981633974483,\"plot\":{\"id\":\"904e1960-c29d-4db0-8d38-be334683380a\",\"subtype\":\"Figure\",\"type\":\"Plot\"},\"ticker\":{\"id\":\"2f3f9d66-821c-4214-916e-6c87fb6f3136\",\"type\":\"CategoricalTicker\"}},\"id\":\"8971c932-f009-4aef-b5d5-72d695c48208\",\"type\":\"CategoricalAxis\"},{\"attributes\":{\"fill_alpha\":{\"value\":0.1},\"fill_color\":{\"value\":\"#1f77b4\"},\"line_alpha\":{\"value\":0.1},\"line_color\":{\"value\":\"#1f77b4\"},\"top\":{\"field\":\"top\"},\"width\":{\"value\":0.9},\"x\":{\"field\":\"x\"}},\"id\":\"9a9a30b3-64c4-45a0-8b00-b3b7fa09aff1\",\"type\":\"VBar\"},{\"attributes\":{},\"id\":\"8cbe09ab-5d55-4f34-a1d4-42d977a69290\",\"type\":\"CategoricalTickFormatter\"},{\"attributes\":{},\"id\":\"2f3f9d66-821c-4214-916e-6c87fb6f3136\",\"type\":\"CategoricalTicker\"},{\"attributes\":{\"source\":{\"id\":\"4b34df76-6399-48f3-af4c-1c8bc426b10f\",\"type\":\"ColumnDataSource\"}},\"id\":\"ab0f33d4-c974-42ef-847c-de0a9115426b\",\"type\":\"CDSView\"}],\"root_ids\":[\"904e1960-c29d-4db0-8d38-be334683380a\"]},\"title\":\"Bokeh Application\",\"version\":\"0.12.10\"}};\n",
       "    var render_items = [{\"docid\":\"d7e4d337-aa9e-48ac-a5b4-9f6a1dbf0ca3\",\"elementid\":\"cffbaaf6-a9dd-426a-8e96-52408ecbb5de\",\"modelid\":\"904e1960-c29d-4db0-8d38-be334683380a\"}];\n",
       "\n",
       "    root.Bokeh.embed.embed_items(docs_json, render_items);\n",
       "  }\n",
       "\n",
       "  if (root.Bokeh !== undefined) {\n",
       "    embed_document(root);\n",
       "  } else {\n",
       "    var attempts = 0;\n",
       "    var timer = setInterval(function(root) {\n",
       "      if (root.Bokeh !== undefined) {\n",
       "        embed_document(root);\n",
       "        clearInterval(timer);\n",
       "      }\n",
       "      attempts++;\n",
       "      if (attempts > 100) {\n",
       "        console.log(\"Bokeh: ERROR: Unable to embed document because BokehJS library is missing\")\n",
       "        clearInterval(timer);\n",
       "      }\n",
       "    }, 10, root)\n",
       "  }\n",
       "})(window);"
      ],
      "application/vnd.bokehjs_exec.v0+json": ""
     },
     "metadata": {
      "application/vnd.bokehjs_exec.v0+json": {
       "id": "904e1960-c29d-4db0-8d38-be334683380a"
      }
     },
     "output_type": "display_data"
    }
   ],
   "source": [
    "type(avg_scores)\n",
    "#Pull the rating and store names into their own list to pass to bokeh for the different axis and plot values.\n",
    "ratings = [row[1] for row in avg_scores]\n",
    "stores = [row[0] for row in avg_scores]\n",
    "\n",
    "#Set to open charts in the notebook. \n",
    "output_notebook()\n",
    "\n",
    "#Every plot starts with a figure object that defines some generic information relative to the plots display\n",
    "p = figure(x_range=stores[:10], plot_height=400, plot_width=800, title=\"Top 10 Average Scores\",\n",
    "           toolbar_location=None, tools=\"\")\n",
    "\n",
    "#With a figure defined we then declar the type of chart (vbar) and then pass it the data to plot\n",
    "p.vbar(x=stores[:10], top=ratings[:10], width=0.9, color='#4BC246')\n",
    "#We can also manipulate attribute values on our figure from above after declaration \n",
    "p.xaxis.major_label_orientation = pi/4\n",
    "p.yaxis.major_label_orientation = \"horizontal\"\n",
    "p.xgrid.grid_line_color = None\n",
    "p.y_range.start = 0\n",
    "#Once we have provided the data and any formatting information that's needed we can call the show function for the specific figure\n",
    "show(p)"
   ]
  },
  {
   "cell_type": "markdown",
   "metadata": {},
   "source": [
    "## Now with more Pandas\n",
    "\n",
    "Ok, we've used raw python data structures and objects up to this point. There is a library in Python called Pandas that you will definitely come across as it provides some nice functionality for interacting with tabular data from various sources. Pandas provides a lot of extra functionality out of the box such as interacting with databases, flat files, web scraping etc. It's a powerful tool, but use with care as it is a memory expensive tool.\n",
    "\n",
    "- https://pandas.pydata.org/\n",
    "\n",
    "For the bottom 10 plot let's define a dataframe (this is like an in memory table of data) to use with Bokeh and the Bokeh ColumnDataSource. Using Pandas and the Bokeh ColumnDataSource gives us access to some extra functionality such as hover over tool tips that can be a nice addition to our visualization of the data.\n",
    "\n",
    "- https://bokeh.pydata.org/en/latest/docs/reference/models/sources.html\n",
    "- https://bokeh.pydata.org/en/latest/docs/user_guide/tools.html\n",
    "- https://bokeh.pydata.org/en/latest/docs/user_guide/tools.html#hovertool"
   ]
  },
  {
   "cell_type": "code",
   "execution_count": 21,
   "metadata": {},
   "outputs": [
    {
     "data": {
      "text/html": [
       "<div>\n",
       "<style>\n",
       "    .dataframe thead tr:only-child th {\n",
       "        text-align: right;\n",
       "    }\n",
       "\n",
       "    .dataframe thead th {\n",
       "        text-align: left;\n",
       "    }\n",
       "\n",
       "    .dataframe tbody tr th {\n",
       "        vertical-align: top;\n",
       "    }\n",
       "</style>\n",
       "<table border=\"1\" class=\"dataframe\">\n",
       "  <thead>\n",
       "    <tr style=\"text-align: right;\">\n",
       "      <th></th>\n",
       "      <th>name</th>\n",
       "      <th>rating</th>\n",
       "    </tr>\n",
       "  </thead>\n",
       "  <tbody>\n",
       "    <tr>\n",
       "      <th>0</th>\n",
       "      <td>Teo</td>\n",
       "      <td>3.880000</td>\n",
       "    </tr>\n",
       "    <tr>\n",
       "      <th>1</th>\n",
       "      <td>CuvÃ©e Coffee Bar</td>\n",
       "      <td>3.820000</td>\n",
       "    </tr>\n",
       "    <tr>\n",
       "      <th>2</th>\n",
       "      <td>Halcyon</td>\n",
       "      <td>3.820000</td>\n",
       "    </tr>\n",
       "    <tr>\n",
       "      <th>3</th>\n",
       "      <td>Tuscany At 360</td>\n",
       "      <td>3.818182</td>\n",
       "    </tr>\n",
       "    <tr>\n",
       "      <th>4</th>\n",
       "      <td>Epoch Coffee</td>\n",
       "      <td>3.812500</td>\n",
       "    </tr>\n",
       "    <tr>\n",
       "      <th>5</th>\n",
       "      <td>Stinsonâs</td>\n",
       "      <td>3.810000</td>\n",
       "    </tr>\n",
       "    <tr>\n",
       "      <th>6</th>\n",
       "      <td>Kick Butt Coffee Music &amp; Booze</td>\n",
       "      <td>3.720000</td>\n",
       "    </tr>\n",
       "    <tr>\n",
       "      <th>7</th>\n",
       "      <td>Pacha</td>\n",
       "      <td>3.690000</td>\n",
       "    </tr>\n",
       "    <tr>\n",
       "      <th>8</th>\n",
       "      <td>\"Strange Brew</td>\n",
       "      <td>3.600000</td>\n",
       "    </tr>\n",
       "    <tr>\n",
       "      <th>9</th>\n",
       "      <td>Once Over Coffee Bar</td>\n",
       "      <td>3.370000</td>\n",
       "    </tr>\n",
       "  </tbody>\n",
       "</table>\n",
       "</div>"
      ],
      "text/plain": [
       "                             name    rating\n",
       "0                             Teo  3.880000\n",
       "1               CuvÃ©e Coffee Bar  3.820000\n",
       "2                         Halcyon  3.820000\n",
       "3                  Tuscany At 360  3.818182\n",
       "4                    Epoch Coffee  3.812500\n",
       "5                     Stinsonâs  3.810000\n",
       "6  Kick Butt Coffee Music & Booze  3.720000\n",
       "7                           Pacha  3.690000\n",
       "8                   \"Strange Brew  3.600000\n",
       "9            Once Over Coffee Bar  3.370000"
      ]
     },
     "execution_count": 21,
     "metadata": {},
     "output_type": "execute_result"
    }
   ],
   "source": [
    "#Import pandas now since it's a heavy library\n",
    "import pandas as pd\n",
    "\n",
    "\n",
    "df = pd.DataFrame(avg_scores, columns=['name', 'rating'])\n",
    "df.head(3)\n",
    "bottom_ten = df[-10:]\n",
    "bottom_ten.index\n",
    "#We need to reuse the index since it's maintained from the original dataframe, but Bokeh will use the index values\n",
    "#to associate store names with points along the x axis of our plot.\n",
    "bottom_ten = bottom_ten.reset_index(drop=True)\n",
    "bottom_ten"
   ]
  },
  {
   "cell_type": "code",
   "execution_count": 22,
   "metadata": {},
   "outputs": [
    {
     "data": {
      "text/plain": [
       "['name', 'rating', 'index']"
      ]
     },
     "execution_count": 22,
     "metadata": {},
     "output_type": "execute_result"
    }
   ],
   "source": [
    "source = ColumnDataSource(bottom_ten)\n",
    "source\n",
    "source.column_names"
   ]
  },
  {
   "cell_type": "code",
   "execution_count": 23,
   "metadata": {},
   "outputs": [
    {
     "data": {
      "text/html": [
       "\n",
       "<div class=\"bk-root\">\n",
       "    <div class=\"bk-plotdiv\" id=\"4f00be3f-c021-4ebd-a53c-d0373cf3c79f\"></div>\n",
       "</div>"
      ]
     },
     "metadata": {},
     "output_type": "display_data"
    },
    {
     "data": {
      "application/javascript": [
       "(function(root) {\n",
       "  function embed_document(root) {\n",
       "    var docs_json = {\"61349b1b-7e00-4943-93a6-c0340ebbc86f\":{\"roots\":{\"references\":[{\"attributes\":{},\"id\":\"649ee2ec-63ca-4fc6-80a9-fba377796662\",\"type\":\"BasicTickFormatter\"},{\"attributes\":{\"data_source\":{\"id\":\"e96c89f3-32f4-4f3f-8666-e844e0d9229c\",\"type\":\"ColumnDataSource\"},\"glyph\":{\"id\":\"3f386f42-cb0c-4123-a940-eac510a1cce6\",\"type\":\"VBar\"},\"hover_glyph\":null,\"muted_glyph\":null,\"nonselection_glyph\":{\"id\":\"fe6d3e75-4efe-4153-b7f7-0e9ea96a222c\",\"type\":\"VBar\"},\"selection_glyph\":null,\"view\":{\"id\":\"f0536e44-be99-49fd-a9d1-b3368da14172\",\"type\":\"CDSView\"}},\"id\":\"69feda91-f281-401f-aff4-481843ff209a\",\"type\":\"GlyphRenderer\"},{\"attributes\":{},\"id\":\"dbe9a5c8-1ec6-4b87-a5ef-3967b229ff27\",\"type\":\"BasicTicker\"},{\"attributes\":{\"callback\":null,\"tooltips\":[[\"Average Rating: \",\"@rating\"]]},\"id\":\"335cef3e-58d8-48ec-8751-ed93b51cdcfa\",\"type\":\"HoverTool\"},{\"attributes\":{},\"id\":\"073a015e-50ac-4da9-ae0c-022cc50777cf\",\"type\":\"CategoricalTickFormatter\"},{\"attributes\":{\"axis_label\":\"Coffee Shop\",\"formatter\":{\"id\":\"073a015e-50ac-4da9-ae0c-022cc50777cf\",\"type\":\"CategoricalTickFormatter\"},\"major_label_orientation\":0.7853981633974483,\"plot\":{\"id\":\"2fd18e7b-5b90-4d2c-96f2-9d151955f90d\",\"subtype\":\"Figure\",\"type\":\"Plot\"},\"ticker\":{\"id\":\"e5c06a0c-4c14-4215-a012-43d6d69bdbb9\",\"type\":\"CategoricalTicker\"}},\"id\":\"96982126-36f6-4abc-bcf8-6f77d6a4227d\",\"type\":\"CategoricalAxis\"},{\"attributes\":{\"source\":{\"id\":\"e96c89f3-32f4-4f3f-8666-e844e0d9229c\",\"type\":\"ColumnDataSource\"}},\"id\":\"f0536e44-be99-49fd-a9d1-b3368da14172\",\"type\":\"CDSView\"},{\"attributes\":{\"grid_line_color\":{\"value\":null},\"plot\":{\"id\":\"2fd18e7b-5b90-4d2c-96f2-9d151955f90d\",\"subtype\":\"Figure\",\"type\":\"Plot\"},\"ticker\":{\"id\":\"e5c06a0c-4c14-4215-a012-43d6d69bdbb9\",\"type\":\"CategoricalTicker\"}},\"id\":\"d67a23a4-f053-4551-8c2f-e06f7c76c221\",\"type\":\"Grid\"},{\"attributes\":{},\"id\":\"e5c06a0c-4c14-4215-a012-43d6d69bdbb9\",\"type\":\"CategoricalTicker\"},{\"attributes\":{\"axis_label\":\"Rating Scale\",\"formatter\":{\"id\":\"649ee2ec-63ca-4fc6-80a9-fba377796662\",\"type\":\"BasicTickFormatter\"},\"plot\":{\"id\":\"2fd18e7b-5b90-4d2c-96f2-9d151955f90d\",\"subtype\":\"Figure\",\"type\":\"Plot\"},\"ticker\":{\"id\":\"dbe9a5c8-1ec6-4b87-a5ef-3967b229ff27\",\"type\":\"BasicTicker\"}},\"id\":\"b0b8968a-3f2e-4ae1-b78e-f60f41fa9201\",\"type\":\"LinearAxis\"},{\"attributes\":{\"plot\":null,\"text\":\"Bottom Ten Average Reviews\"},\"id\":\"355d396f-47cd-46db-bd23-f6658b8127e6\",\"type\":\"Title\"},{\"attributes\":{\"callback\":null,\"end\":5},\"id\":\"3182e685-bdfe-4283-a5df-2662a3c8bae1\",\"type\":\"Range1d\"},{\"attributes\":{\"below\":[{\"id\":\"96982126-36f6-4abc-bcf8-6f77d6a4227d\",\"type\":\"CategoricalAxis\"}],\"left\":[{\"id\":\"b0b8968a-3f2e-4ae1-b78e-f60f41fa9201\",\"type\":\"LinearAxis\"}],\"plot_height\":400,\"renderers\":[{\"id\":\"96982126-36f6-4abc-bcf8-6f77d6a4227d\",\"type\":\"CategoricalAxis\"},{\"id\":\"d67a23a4-f053-4551-8c2f-e06f7c76c221\",\"type\":\"Grid\"},{\"id\":\"b0b8968a-3f2e-4ae1-b78e-f60f41fa9201\",\"type\":\"LinearAxis\"},{\"id\":\"aec98016-c1eb-4535-a5ec-ac974dc7efd8\",\"type\":\"Grid\"},{\"id\":\"69feda91-f281-401f-aff4-481843ff209a\",\"type\":\"GlyphRenderer\"}],\"title\":{\"id\":\"355d396f-47cd-46db-bd23-f6658b8127e6\",\"type\":\"Title\"},\"toolbar\":{\"id\":\"4940f9d3-be7e-46dd-a0e9-ee313ca1e82f\",\"type\":\"Toolbar\"},\"x_range\":{\"id\":\"a27bf3b5-d0c6-4e83-bd27-2f4238a39751\",\"type\":\"FactorRange\"},\"x_scale\":{\"id\":\"c3fb0044-2558-4528-9ca7-191466686807\",\"type\":\"CategoricalScale\"},\"y_range\":{\"id\":\"3182e685-bdfe-4283-a5df-2662a3c8bae1\",\"type\":\"Range1d\"},\"y_scale\":{\"id\":\"561b8e8c-4360-45b1-b528-56813ceb2717\",\"type\":\"LinearScale\"}},\"id\":\"2fd18e7b-5b90-4d2c-96f2-9d151955f90d\",\"subtype\":\"Figure\",\"type\":\"Plot\"},{\"attributes\":{},\"id\":\"561b8e8c-4360-45b1-b528-56813ceb2717\",\"type\":\"LinearScale\"},{\"attributes\":{\"callback\":null,\"factors\":[\"Teo\",\"Cuv\\u00c3\\u00a9e Coffee Bar\",\"Halcyon\",\"Tuscany At 360\",\"Epoch Coffee\",\"Stinson\\u00e2\\u0080\\u0099s\",\"Kick Butt Coffee Music & Booze\",\"Pacha\",\"\\\"Strange Brew\",\"Once Over Coffee Bar\"]},\"id\":\"a27bf3b5-d0c6-4e83-bd27-2f4238a39751\",\"type\":\"FactorRange\"},{\"attributes\":{},\"id\":\"c3fb0044-2558-4528-9ca7-191466686807\",\"type\":\"CategoricalScale\"},{\"attributes\":{\"fill_alpha\":{\"value\":0.1},\"fill_color\":{\"value\":\"#1f77b4\"},\"line_alpha\":{\"value\":0.1},\"line_color\":{\"value\":\"#1f77b4\"},\"top\":{\"field\":\"rating\"},\"width\":{\"value\":0.5},\"x\":{\"field\":\"name\"}},\"id\":\"fe6d3e75-4efe-4153-b7f7-0e9ea96a222c\",\"type\":\"VBar\"},{\"attributes\":{\"callback\":null,\"column_names\":[\"name\",\"rating\",\"index\"],\"data\":{\"index\":[0,1,2,3,4,5,6,7,8,9],\"name\":[\"Teo\",\"Cuv\\u00c3\\u00a9e Coffee Bar\",\"Halcyon\",\"Tuscany At 360\",\"Epoch Coffee\",\"Stinson\\u00e2\\u0080\\u0099s\",\"Kick Butt Coffee Music & Booze\",\"Pacha\",\"\\\"Strange Brew\",\"Once Over Coffee Bar\"],\"rating\":{\"__ndarray__\":\"CtejcD0KD0CPwvUoXI8OQI/C9Shcjw5AjC666KKLDkAAAAAAAIAOQHsUrkfheg5Aw/UoXI/CDUCF61G4HoUNQM3MzMzMzAxA9ihcj8L1CkA=\",\"dtype\":\"float64\",\"shape\":[10]}}},\"id\":\"e96c89f3-32f4-4f3f-8666-e844e0d9229c\",\"type\":\"ColumnDataSource\"},{\"attributes\":{\"active_drag\":\"auto\",\"active_inspect\":\"auto\",\"active_scroll\":\"auto\",\"active_tap\":\"auto\",\"tools\":[{\"id\":\"335cef3e-58d8-48ec-8751-ed93b51cdcfa\",\"type\":\"HoverTool\"}]},\"id\":\"4940f9d3-be7e-46dd-a0e9-ee313ca1e82f\",\"type\":\"Toolbar\"},{\"attributes\":{\"fill_color\":{\"value\":\"#C32B2B\"},\"line_color\":{\"value\":\"#C32B2B\"},\"top\":{\"field\":\"rating\"},\"width\":{\"value\":0.5},\"x\":{\"field\":\"name\"}},\"id\":\"3f386f42-cb0c-4123-a940-eac510a1cce6\",\"type\":\"VBar\"},{\"attributes\":{\"dimension\":1,\"plot\":{\"id\":\"2fd18e7b-5b90-4d2c-96f2-9d151955f90d\",\"subtype\":\"Figure\",\"type\":\"Plot\"},\"ticker\":{\"id\":\"dbe9a5c8-1ec6-4b87-a5ef-3967b229ff27\",\"type\":\"BasicTicker\"}},\"id\":\"aec98016-c1eb-4535-a5ec-ac974dc7efd8\",\"type\":\"Grid\"}],\"root_ids\":[\"2fd18e7b-5b90-4d2c-96f2-9d151955f90d\"]},\"title\":\"Bokeh Application\",\"version\":\"0.12.10\"}};\n",
       "    var render_items = [{\"docid\":\"61349b1b-7e00-4943-93a6-c0340ebbc86f\",\"elementid\":\"4f00be3f-c021-4ebd-a53c-d0373cf3c79f\",\"modelid\":\"2fd18e7b-5b90-4d2c-96f2-9d151955f90d\"}];\n",
       "\n",
       "    root.Bokeh.embed.embed_items(docs_json, render_items);\n",
       "  }\n",
       "\n",
       "  if (root.Bokeh !== undefined) {\n",
       "    embed_document(root);\n",
       "  } else {\n",
       "    var attempts = 0;\n",
       "    var timer = setInterval(function(root) {\n",
       "      if (root.Bokeh !== undefined) {\n",
       "        embed_document(root);\n",
       "        clearInterval(timer);\n",
       "      }\n",
       "      attempts++;\n",
       "      if (attempts > 100) {\n",
       "        console.log(\"Bokeh: ERROR: Unable to embed document because BokehJS library is missing\")\n",
       "        clearInterval(timer);\n",
       "      }\n",
       "    }, 10, root)\n",
       "  }\n",
       "})(window);"
      ],
      "application/vnd.bokehjs_exec.v0+json": ""
     },
     "metadata": {
      "application/vnd.bokehjs_exec.v0+json": {
       "id": "2fd18e7b-5b90-4d2c-96f2-9d151955f90d"
      }
     },
     "output_type": "display_data"
    }
   ],
   "source": [
    "hover = HoverTool(\n",
    "        tooltips=[\n",
    "            (\"Average Rating: \", \"@rating\"),\n",
    "        ]\n",
    "    )\n",
    "\n",
    "rating_plot = figure(x_range=stores[-10:], y_range=(0,5), height = 400, width = 600, tools=[hover],\n",
    "                    title=\"Bottom Ten Average Reviews\")\n",
    "rating_plot.vbar(x='name', top='rating', width=0.5, color='#C32B2B', source=source)\n",
    "rating_plot.xaxis.axis_label = \"Coffee Shop\"\n",
    "rating_plot.yaxis.axis_label = \"Rating Scale\"\n",
    "rating_plot.xaxis.major_label_orientation = pi/4\n",
    "rating_plot.xgrid.grid_line_color = None\n",
    "show(rating_plot)"
   ]
  },
  {
   "cell_type": "markdown",
   "metadata": {},
   "source": [
    "## Just for fun\n",
    "\n",
    "The example below is an extra example showing a different plot available in bokeh. For this dataset I don't think that a scatter plot gives us much extra information. Different types of plots/charts are better at visualizing and presenting different types of data. One thing the below example does show is how to provide custom text for your axis tick labels. The enumerate function manipulates the data into a format that's easy to use with python string formatting which can then be passed to the Bokeh FuncTickFormatter for custom labels.\n",
    "\n",
    "- https://bokeh.pydata.org/en/latest/docs/reference/models/formatters.html\\\n",
    "- https://docs.python.org/3.6/library/functions.html#enumerate\n",
    "- https://plotlyblog.tumblr.com/post/118355223592/how-to-analyze-data-eight-useful-ways-you-can"
   ]
  },
  {
   "cell_type": "code",
   "execution_count": 24,
   "metadata": {},
   "outputs": [
    {
     "data": {
      "text/html": [
       "\n",
       "<div class=\"bk-root\">\n",
       "    <div class=\"bk-plotdiv\" id=\"3bb1388a-afa8-4349-bf1d-a9469fa6e753\"></div>\n",
       "</div>"
      ]
     },
     "metadata": {},
     "output_type": "display_data"
    },
    {
     "data": {
      "application/javascript": [
       "(function(root) {\n",
       "  function embed_document(root) {\n",
       "    var docs_json = {\"119e3522-e58b-47cf-8488-d8a8a2f65a4a\":{\"roots\":{\"references\":[{\"attributes\":{\"fill_color\":{\"value\":\"#C32B2B\"},\"line_color\":{\"value\":\"#C32B2B\"},\"size\":{\"units\":\"screen\",\"value\":20},\"x\":{\"field\":\"index\"},\"y\":{\"field\":\"rating\"}},\"id\":\"7e725e3c-5e43-4dbb-aedf-6fc8ed56edac\",\"type\":\"Circle\"},{\"attributes\":{\"dimension\":1,\"plot\":{\"id\":\"2cb2846b-f908-4a9b-8484-0aeb8aebdd11\",\"subtype\":\"Figure\",\"type\":\"Plot\"},\"ticker\":{\"id\":\"c78dff15-3773-46af-a68b-0f4ac183651f\",\"type\":\"BasicTicker\"}},\"id\":\"e9bb2afb-4720-4e2a-819f-b49dddf4f8a3\",\"type\":\"Grid\"},{\"attributes\":{\"code\":\"\\n    var labels = {0: 'Teo', 1: 'Cuv\\u00c3\\u00a9e Coffee Bar', 2: 'Halcyon', 3: 'Tuscany At 360', 4: 'Epoch Coffee', 5: 'Stinson\\u00e2\\\\x80\\\\x99s', 6: 'Kick Butt Coffee Music & Booze', 7: 'Pacha', 8: '\\\"Strange Brew', 9: 'Once Over Coffee Bar'};\\n    return labels[tick];\\n\"},\"id\":\"0bde8d4d-de88-491d-9183-7c31a0702483\",\"type\":\"FuncTickFormatter\"},{\"attributes\":{\"callback\":null,\"tooltips\":[[\"Average Rating: \",\"@rating\"]]},\"id\":\"335cef3e-58d8-48ec-8751-ed93b51cdcfa\",\"type\":\"HoverTool\"},{\"attributes\":{\"formatter\":{\"id\":\"b567496c-18ac-4673-8bea-69ceda27ef16\",\"type\":\"BasicTickFormatter\"},\"plot\":{\"id\":\"2cb2846b-f908-4a9b-8484-0aeb8aebdd11\",\"subtype\":\"Figure\",\"type\":\"Plot\"},\"ticker\":{\"id\":\"c78dff15-3773-46af-a68b-0f4ac183651f\",\"type\":\"BasicTicker\"}},\"id\":\"e4926f53-8439-4858-b44f-0c97053bb224\",\"type\":\"LinearAxis\"},{\"attributes\":{\"active_drag\":\"auto\",\"active_inspect\":\"auto\",\"active_scroll\":\"auto\",\"active_tap\":\"auto\",\"tools\":[{\"id\":\"335cef3e-58d8-48ec-8751-ed93b51cdcfa\",\"type\":\"HoverTool\"}]},\"id\":\"de033dc0-80fa-4830-b8a3-4543f34cb162\",\"type\":\"Toolbar\"},{\"attributes\":{\"plot\":{\"id\":\"2cb2846b-f908-4a9b-8484-0aeb8aebdd11\",\"subtype\":\"Figure\",\"type\":\"Plot\"},\"ticker\":{\"id\":\"5fe59d18-07bd-4fcb-a6e7-60810a824e3f\",\"type\":\"BasicTicker\"}},\"id\":\"e81ca257-e202-4b51-bc7a-354d105bc994\",\"type\":\"Grid\"},{\"attributes\":{\"fill_alpha\":{\"value\":0.1},\"fill_color\":{\"value\":\"#1f77b4\"},\"line_alpha\":{\"value\":0.1},\"line_color\":{\"value\":\"#1f77b4\"},\"size\":{\"units\":\"screen\",\"value\":20},\"x\":{\"field\":\"index\"},\"y\":{\"field\":\"rating\"}},\"id\":\"cb06d686-9b2c-4747-895b-0b90140dc766\",\"type\":\"Circle\"},{\"attributes\":{\"formatter\":{\"id\":\"0bde8d4d-de88-491d-9183-7c31a0702483\",\"type\":\"FuncTickFormatter\"},\"major_label_orientation\":0.7853981633974483,\"plot\":{\"id\":\"2cb2846b-f908-4a9b-8484-0aeb8aebdd11\",\"subtype\":\"Figure\",\"type\":\"Plot\"},\"ticker\":{\"id\":\"5fe59d18-07bd-4fcb-a6e7-60810a824e3f\",\"type\":\"BasicTicker\"}},\"id\":\"206fd1c4-bdbf-4b44-bfb7-db89ed58d2cc\",\"type\":\"LinearAxis\"},{\"attributes\":{},\"id\":\"b567496c-18ac-4673-8bea-69ceda27ef16\",\"type\":\"BasicTickFormatter\"},{\"attributes\":{\"plot\":null,\"text\":\"\"},\"id\":\"3e8af68f-0930-4fac-9af8-813064b54db0\",\"type\":\"Title\"},{\"attributes\":{\"callback\":null},\"id\":\"58cd9151-40a9-4f88-a70c-ca9241b215b7\",\"type\":\"DataRange1d\"},{\"attributes\":{\"desired_num_ticks\":10},\"id\":\"5fe59d18-07bd-4fcb-a6e7-60810a824e3f\",\"type\":\"BasicTicker\"},{\"attributes\":{\"below\":[{\"id\":\"206fd1c4-bdbf-4b44-bfb7-db89ed58d2cc\",\"type\":\"LinearAxis\"}],\"left\":[{\"id\":\"e4926f53-8439-4858-b44f-0c97053bb224\",\"type\":\"LinearAxis\"}],\"plot_height\":400,\"renderers\":[{\"id\":\"206fd1c4-bdbf-4b44-bfb7-db89ed58d2cc\",\"type\":\"LinearAxis\"},{\"id\":\"e81ca257-e202-4b51-bc7a-354d105bc994\",\"type\":\"Grid\"},{\"id\":\"e4926f53-8439-4858-b44f-0c97053bb224\",\"type\":\"LinearAxis\"},{\"id\":\"e9bb2afb-4720-4e2a-819f-b49dddf4f8a3\",\"type\":\"Grid\"},{\"id\":\"db177946-eae7-463c-87a7-7cc8a6c9e822\",\"type\":\"GlyphRenderer\"}],\"title\":{\"id\":\"3e8af68f-0930-4fac-9af8-813064b54db0\",\"type\":\"Title\"},\"toolbar\":{\"id\":\"de033dc0-80fa-4830-b8a3-4543f34cb162\",\"type\":\"Toolbar\"},\"x_range\":{\"id\":\"58cd9151-40a9-4f88-a70c-ca9241b215b7\",\"type\":\"DataRange1d\"},\"x_scale\":{\"id\":\"05e6e03c-2f68-4fc8-ae69-47566f995c70\",\"type\":\"LinearScale\"},\"y_range\":{\"id\":\"803c92b0-0597-4c05-8836-0b504790abb2\",\"type\":\"DataRange1d\"},\"y_scale\":{\"id\":\"7ce55210-3226-40c5-992a-7b7e1da96e61\",\"type\":\"LinearScale\"}},\"id\":\"2cb2846b-f908-4a9b-8484-0aeb8aebdd11\",\"subtype\":\"Figure\",\"type\":\"Plot\"},{\"attributes\":{\"data_source\":{\"id\":\"e96c89f3-32f4-4f3f-8666-e844e0d9229c\",\"type\":\"ColumnDataSource\"},\"glyph\":{\"id\":\"7e725e3c-5e43-4dbb-aedf-6fc8ed56edac\",\"type\":\"Circle\"},\"hover_glyph\":null,\"muted_glyph\":null,\"nonselection_glyph\":{\"id\":\"cb06d686-9b2c-4747-895b-0b90140dc766\",\"type\":\"Circle\"},\"selection_glyph\":null,\"view\":{\"id\":\"b01af746-c9b7-4bd4-af81-7771a23eca06\",\"type\":\"CDSView\"}},\"id\":\"db177946-eae7-463c-87a7-7cc8a6c9e822\",\"type\":\"GlyphRenderer\"},{\"attributes\":{},\"id\":\"05e6e03c-2f68-4fc8-ae69-47566f995c70\",\"type\":\"LinearScale\"},{\"attributes\":{},\"id\":\"7ce55210-3226-40c5-992a-7b7e1da96e61\",\"type\":\"LinearScale\"},{\"attributes\":{\"source\":{\"id\":\"e96c89f3-32f4-4f3f-8666-e844e0d9229c\",\"type\":\"ColumnDataSource\"}},\"id\":\"b01af746-c9b7-4bd4-af81-7771a23eca06\",\"type\":\"CDSView\"},{\"attributes\":{\"callback\":null,\"end\":5,\"start\":0},\"id\":\"803c92b0-0597-4c05-8836-0b504790abb2\",\"type\":\"DataRange1d\"},{\"attributes\":{},\"id\":\"c78dff15-3773-46af-a68b-0f4ac183651f\",\"type\":\"BasicTicker\"},{\"attributes\":{\"callback\":null,\"column_names\":[\"name\",\"rating\",\"index\"],\"data\":{\"index\":[0,1,2,3,4,5,6,7,8,9],\"name\":[\"Teo\",\"Cuv\\u00c3\\u00a9e Coffee Bar\",\"Halcyon\",\"Tuscany At 360\",\"Epoch Coffee\",\"Stinson\\u00e2\\u0080\\u0099s\",\"Kick Butt Coffee Music & Booze\",\"Pacha\",\"\\\"Strange Brew\",\"Once Over Coffee Bar\"],\"rating\":{\"__ndarray__\":\"CtejcD0KD0CPwvUoXI8OQI/C9Shcjw5AjC666KKLDkAAAAAAAIAOQHsUrkfheg5Aw/UoXI/CDUCF61G4HoUNQM3MzMzMzAxA9ihcj8L1CkA=\",\"dtype\":\"float64\",\"shape\":[10]}}},\"id\":\"e96c89f3-32f4-4f3f-8666-e844e0d9229c\",\"type\":\"ColumnDataSource\"}],\"root_ids\":[\"2cb2846b-f908-4a9b-8484-0aeb8aebdd11\"]},\"title\":\"Bokeh Application\",\"version\":\"0.12.10\"}};\n",
       "    var render_items = [{\"docid\":\"119e3522-e58b-47cf-8488-d8a8a2f65a4a\",\"elementid\":\"3bb1388a-afa8-4349-bf1d-a9469fa6e753\",\"modelid\":\"2cb2846b-f908-4a9b-8484-0aeb8aebdd11\"}];\n",
       "\n",
       "    root.Bokeh.embed.embed_items(docs_json, render_items);\n",
       "  }\n",
       "\n",
       "  if (root.Bokeh !== undefined) {\n",
       "    embed_document(root);\n",
       "  } else {\n",
       "    var attempts = 0;\n",
       "    var timer = setInterval(function(root) {\n",
       "      if (root.Bokeh !== undefined) {\n",
       "        embed_document(root);\n",
       "        clearInterval(timer);\n",
       "      }\n",
       "      attempts++;\n",
       "      if (attempts > 100) {\n",
       "        console.log(\"Bokeh: ERROR: Unable to embed document because BokehJS library is missing\")\n",
       "        clearInterval(timer);\n",
       "      }\n",
       "    }, 10, root)\n",
       "  }\n",
       "})(window);"
      ],
      "application/vnd.bokehjs_exec.v0+json": ""
     },
     "metadata": {
      "application/vnd.bokehjs_exec.v0+json": {
       "id": "2cb2846b-f908-4a9b-8484-0aeb8aebdd11"
      }
     },
     "output_type": "display_data"
    }
   ],
   "source": [
    "label_dict = {}\n",
    "for i, s in enumerate(bottom_ten.name):\n",
    "    label_dict[i] = s\n",
    "label_dict\n",
    "\n",
    "circle_plot = figure(height = 400, width = 600, tools=[hover])\n",
    "circle_plot.circle(\"index\", \"rating\", source=source, size=20, color='#C32B2B')\n",
    "circle_plot.y_range.start = 0\n",
    "circle_plot.y_range.end = 5\n",
    "circle_plot.xaxis.major_label_orientation = pi/4\n",
    "circle_plot.xaxis[0].ticker.desired_num_ticks = 10\n",
    "circle_plot.xaxis.formatter = FuncTickFormatter(code=\"\"\"\n",
    "    var labels = {};\n",
    "    return labels[tick];\n",
    "\"\"\".format(label_dict))\n",
    "\n",
    "show(circle_plot)"
   ]
  },
  {
   "cell_type": "markdown",
   "metadata": {},
   "source": [
    "## Initial Analysis\n",
    "\n",
    "So roughly based on the data that we have looked at I can make one of a few assumptions:\n",
    "\n",
    "1. Austin has pretty awesome coffee no matter which coffee shop you go to\n",
    "2. These yelp reviews are biased and people are not reviewing bad experiences\n",
    "3. Bad coffee shops in Austion don't have many users that make use of Yelp\n",
    "4. Average reviews are not a good way to look at this data, I'm not looking at review count per store, lowest vs highest, etc. instead I've just taken a raw average. I may be missing something by taking such a simplistic approach.\n",
    "5. I'm sure you will think of something I haven't listed above.\n",
    "\n",
    "Now I can go back and begin writing more queries looking at each review potentially or trying to find patterns. Maybe I identify an extra data source I should load in such as coordinate data and map the locations of the coffee shops to see if I'm only getting reviews for part of Austin. Who knows what could be found."
   ]
  },
  {
   "cell_type": "markdown",
   "metadata": {},
   "source": [
    "## What's next\n",
    "\n",
    "First things first identify a dataset that you want to connect to and analyze! There's a lot of data out there just waiting for somebody to make use of it. If you don't know where to start consider checking out:\n",
    "\n",
    "- https://data.world/\n",
    "- https://data.louisvilleky.gov/\n",
    "- https://apilist.fun/ \n",
    "- https://www.kaggle.com/datasets\n",
    "- https://duckduckgo.com/?q=opendata+portal&t=ffab&ia=web\n",
    "\n",
    "Looking at our code above there is a lot we could make better. First we haven't defined any functions instead our code is almost like a stream of conciousness. That's ok for exploring ideas and concepts, but doesn't lend itself to long term code maintenance. A lot of the above should be pulled into python scripts where functions and classes are created, variables have better/more meaningful names and the code has test to help keep it maintained. Along those lines we haven't mentioned PEP8, but it's something to check out. It is the standard style guide for Python code and defines ways code should be laid out to make it easier for others to pick up review and change your code at a later date. We touched on a lot of concepts spread out across the standard library. The standard library has many more gems to explore. We touched on a lot of different ways to iterate over data with various control flow tools. There are others we didn't use such as the while loop, generators or options from the functools module. Finally we briefly used a few external python libraries such as requests, pandas and bokeh. There's a whole world of python libraries out there to explore and use to help solve new problems. Finally just keep learning, building and having fun writing python.\n",
    "\n",
    "- https://www.python.org/dev/peps/pep-0008/\n",
    "- https://pypi.org/\n",
    "- https://docs.python.org/3/tutorial/controlflow.html\n",
    "- https://wiki.python.org/moin/Iterator\n",
    "- https://docs.python.org/3.6/library/functools.html\n",
    "- https://docs.pytest.org/en/latest/"
   ]
  },
  {
   "cell_type": "code",
   "execution_count": null,
   "metadata": {
    "collapsed": true
   },
   "outputs": [],
   "source": []
  }
 ],
 "metadata": {
  "kernelspec": {
   "display_name": "Python 3",
   "language": "python",
   "name": "python3"
  },
  "language_info": {
   "codemirror_mode": {
    "name": "ipython",
    "version": 3
   },
   "file_extension": ".py",
   "mimetype": "text/x-python",
   "name": "python",
   "nbconvert_exporter": "python",
   "pygments_lexer": "ipython3",
   "version": "3.6.3"
  }
 },
 "nbformat": 4,
 "nbformat_minor": 2
}
