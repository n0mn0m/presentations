{
 "cells": [
  {
   "cell_type": "markdown",
   "metadata": {},
   "source": [
    "Site: https://playoverwatch.com/en-us/career/xbl/Tak%20Locke\n",
    "\n",
    "Tables to map:\n",
    "Hero Specific\n",
    "Combat\n",
    "Assist\n",
    "Deaths \n",
    "Match Awards\n",
    "Averages\n",
    "Game\n",
    "Best"
   ]
  },
  {
   "cell_type": "code",
   "execution_count": 1,
   "metadata": {
    "collapsed": true
   },
   "outputs": [],
   "source": [
    "import requests\n",
    "import pandas as pd\n",
    "from bs4 import BeautifulSoup\n",
    "import bs4\n",
    "\n",
    "r = requests.get('https://playoverwatch.com/en-us/career/xbl/Tak%20Locke')\n",
    "html_doc = r.text"
   ]
  },
  {
   "cell_type": "code",
   "execution_count": 2,
   "metadata": {
    "collapsed": true,
    "scrolled": true
   },
   "outputs": [],
   "source": [
    "soup = BeautifulSoup(html_doc, 'html.parser')\n",
    "#print(soup.prettify())"
   ]
  },
  {
   "cell_type": "code",
   "execution_count": 3,
   "metadata": {},
   "outputs": [
    {
     "name": "stdout",
     "output_type": "stream",
     "text": [
      "           name               value\n",
      "0    ALL HEROES  0x02E00000FFFFFFFF\n",
      "1        Reaper  0x02E0000000000002\n",
      "2        Tracer  0x02E0000000000003\n",
      "3         Mercy  0x02E0000000000004\n",
      "4         Hanzo  0x02E0000000000005\n",
      "5      Torbjörn  0x02E0000000000006\n",
      "6     Reinhardt  0x02E0000000000007\n",
      "7        Pharah  0x02E0000000000008\n",
      "8       Winston  0x02E0000000000009\n",
      "9    Widowmaker  0x02E000000000000A\n",
      "10      Bastion  0x02E0000000000015\n",
      "11     Symmetra  0x02E0000000000016\n",
      "12     Zenyatta  0x02E0000000000020\n",
      "13        Genji  0x02E0000000000029\n",
      "14      Roadhog  0x02E0000000000040\n",
      "15       McCree  0x02E0000000000042\n",
      "16      Junkrat  0x02E0000000000065\n",
      "17        Zarya  0x02E0000000000068\n",
      "18  Soldier: 76  0x02E000000000006E\n",
      "19        Lúcio  0x02E0000000000079\n",
      "20         D.Va  0x02E000000000007A\n",
      "21          Mei  0x02E00000000000DD\n",
      "22       Sombra  0x02E000000000012E\n",
      "23          Ana  0x02E000000000013B\n"
     ]
    }
   ],
   "source": [
    "career_stats = soup.find(class_='content-box max-width-container career-stats-section')\n",
    "character_values = career_stats.find_all(attrs={\"option-id\":True})\n",
    "\n",
    "character_data = {\n",
    "    'name':[],\n",
    "    'value':[] \n",
    "}\n",
    "\n",
    "for row in character_values:\n",
    "    character_data['name'].append(row['option-id'])\n",
    "    character_data['value'].append(row['value'])\n",
    "\n",
    "characterDf = pd.DataFrame(character_data)\n",
    "print(characterDf)"
   ]
  },
  {
   "cell_type": "code",
   "execution_count": 4,
   "metadata": {
    "scrolled": true
   },
   "outputs": [
    {
     "name": "stdout",
     "output_type": "stream",
     "text": [
      "                                  stat       value\n",
      "0                  Players Resurrected           9\n",
      "1   Players Resurrected - Most in Game           3\n",
      "2        Players Resurrected - Average        6.14\n",
      "3                          Elimination           1\n",
      "4                          Shots Fired          52\n",
      "5                            Shots Hit           9\n",
      "6                        Critical Hits           2\n",
      "7                          Damage Done         205\n",
      "8                       Objective Kill           1\n",
      "9                        Critical Hits           2\n",
      "10            Critical Hits per Minute           0\n",
      "11               Critical Hit Accuracy         22%\n",
      "12               Eliminations per Life        0.06\n",
      "13                     Weapon Accuracy         17%\n",
      "14                        Healing Done      16,867\n",
      "15                   Offensive Assists           7\n",
      "16                        Self Healing       2,244\n",
      "17          Elimination - Most in Life           1\n",
      "18          Damage Done - Most in Life          60\n",
      "19         Healing Done - Most in Life       3,447\n",
      "20      Weapon Accuracy - Best in Game         22%\n",
      "21                  Kill Streak - Best           1\n",
      "22          Damage Done - Most in Game         145\n",
      "23         Healing Done - Most in Game       8,465\n",
      "24          Elimination - Most in Game           1\n",
      "25       Objective Kill - Most in Game           1\n",
      "26       Objective Time - Most in Game       01:01\n",
      "27    Offensive Assists - Most in Game           4\n",
      "28         Critical Hit - Most in Game           1\n",
      "29         Critical Hit - Most in Life           1\n",
      "..                                 ...         ...\n",
      "31              Self Healing - Average        1.92\n",
      "32         Offensive Assists - Average           5\n",
      "33                    Deaths - Average       10.92\n",
      "34            Objective Time - Average       01:07\n",
      "35           Objective Kills - Average        0.68\n",
      "36              Healing Done - Average   11,515.68\n",
      "37              Eliminations - Average        0.68\n",
      "38               Damage Done - Average      139.96\n",
      "39                              Deaths          16\n",
      "40                Environmental Deaths           2\n",
      "41                     Medals - Bronze           0\n",
      "42                     Medals - Silver           2\n",
      "43                       Medals - Gold           0\n",
      "44                              Medals           3\n",
      "45                         Time Played  19 minutes\n",
      "46                        Games Played           1\n",
      "47                           Games Won           0\n",
      "48                      Objective Time       01:39\n",
      "49                  Time Spent on Fire       00:02\n",
      "50                      Win Percentage         28%\n",
      "51                        Blaster Kill           1\n",
      "52         Blaster Kill - Most in Game           1\n",
      "53                   Defensive Assists          26\n",
      "54    Defensive Assists - Most in Game          15\n",
      "55                        Healing Done      16,867\n",
      "56         Healing Done - Most in Game       8,465\n",
      "57                          Games Lost           1\n",
      "58              Healing Done - Average      11,516\n",
      "59         Defensive Assists - Average          18\n",
      "60             Blaster Kills - Average           1\n",
      "\n",
      "[61 rows x 2 columns]\n"
     ]
    }
   ],
   "source": [
    "table = soup.find(id='competitive')#quickplay\n",
    "section = table.find_all(attrs={'data-category-id':'0x02E0000000000004'})\n",
    "    \n",
    "data = {\n",
    "    'stat' : [],\n",
    "    'value' : []\n",
    "}\n",
    "\n",
    "for row in section:\n",
    "    cols = row.find_all('td')\n",
    "    [data['stat'].append(r.get_text()) for r in cols[0::2]]\n",
    "    [data['value'].append(r.get_text()) for r in cols[1::2]]\n",
    "        \n",
    "playerData = pd.DataFrame(data)\n",
    "print(playerData)"
   ]
  },
  {
   "cell_type": "markdown",
   "metadata": {},
   "source": [
    "section class=\"content-box max-width-container career-stats-section\n",
    "div data-group-id=\"stats\"\n",
    "data-category-id=\"0x02E0000000000002 - maps to hero option value"
   ]
  },
  {
   "cell_type": "code",
   "execution_count": 5,
   "metadata": {},
   "outputs": [
    {
     "name": "stdout",
     "output_type": "stream",
     "text": [
      "                        stat  value\n",
      "0     Eliminations - Average  18.73\n",
      "1      Damage Done - Average  8,314\n",
      "2           Deaths - Average  10.46\n",
      "3      Final Blows - Average   9.68\n",
      "4     Healing Done - Average    533\n",
      "5  Objective Kills - Average    8.8\n",
      "6   Objective Time - Average  01:44\n",
      "7       Solo Kills - Average   1.48\n"
     ]
    }
   ],
   "source": [
    "stats = table.find_all('div', class_='card-content')\n",
    "\n",
    "data = {\n",
    "    'stat' : [],\n",
    "    'value' : []\n",
    "}\n",
    "\n",
    "for row in stats:\n",
    "    data['stat'].append(row.find('p').get_text())\n",
    "    data['value'].append(row.find('h3').get_text())\n",
    "    \n",
    "playerData = pd.DataFrame(data)\n",
    "print(playerData)"
   ]
  },
  {
   "cell_type": "code",
   "execution_count": 6,
   "metadata": {},
   "outputs": [
    {
     "name": "stdout",
     "output_type": "stream",
     "text": [
      "                                 stat       value\n",
      "0                   Melee Final Blows          49\n",
      "1                       Recon Assists          15\n",
      "2         Eliminations - Most in Game          43\n",
      "3         Melee Final Blows - Average        0.09\n",
      "4                              Deaths       3,638\n",
      "5                               Cards         188\n",
      "6                           Games Won         276\n",
      "7    Melee Final Blows - Most in Game           2\n",
      "8                      Souls Consumed          68\n",
      "9                        Eliminations          91\n",
      "10                       Healing Done       2,366\n",
      "11        Eliminations - Most in Life          10\n",
      "12        Melee Final Blows - Average        0.25\n",
      "13                             Deaths          72\n",
      "14                    Medals - Bronze          10\n",
      "15                        Time Played  58 minutes\n",
      "16                   Multikill - Best           3\n",
      "17                   Pulse Bomb Kills          47\n",
      "18                       Eliminations         390\n",
      "19                  Turrets Destroyed          27\n",
      "20        Eliminations - Most in Life          10\n",
      "21        Melee Final Blows - Average        0.18\n",
      "22                             Deaths         195\n",
      "23                    Medals - Bronze          21\n",
      "24                        Time Played     3 hours\n",
      "25                   Multikill - Best           3\n",
      "26                Players Resurrected         301\n",
      "27                       Eliminations          59\n",
      "28                       Healing Done     380,441\n",
      "29        Eliminations - Most in Life           3\n",
      "..                                ...         ...\n",
      "299       Eliminations - Most in Life           2\n",
      "300            Self Healing - Average         1.9\n",
      "301                            Deaths           4\n",
      "302                   Medals - Silver           0\n",
      "303                       Time Played   2 minutes\n",
      "304                      Healing Done         269\n",
      "305           Sound Barriers Provided          10\n",
      "306                      Eliminations           9\n",
      "307                      Healing Done      10,264\n",
      "308       Eliminations - Most in Life           5\n",
      "309            Self Healing - Average        2.17\n",
      "310                            Deaths          16\n",
      "311                   Medals - Bronze           0\n",
      "312                       Time Played  13 minutes\n",
      "313                 Defensive Assists           8\n",
      "314                      Mechs Called           7\n",
      "315                      Eliminations          16\n",
      "316       Eliminations - Most in Life           3\n",
      "317                  Deaths - Average       11.47\n",
      "318                            Deaths          12\n",
      "319                   Medals - Bronze           2\n",
      "320                       Time Played  12 minutes\n",
      "321                Self-Destruct Kill           1\n",
      "322                      Eliminations           3\n",
      "323       Eliminations - Most in Life           2\n",
      "324                  Deaths - Average       10.59\n",
      "325                            Deaths           3\n",
      "326                   Medals - Bronze           0\n",
      "327                       Time Played   2 minutes\n",
      "328                    Enemies Hacked           2\n",
      "\n",
      "[329 rows x 2 columns]\n"
     ]
    }
   ],
   "source": [
    "tbody = soup.find_all('tbody')#[2]\n",
    "\n",
    "data = {\n",
    "    'stat' : [],\n",
    "    'value' : []\n",
    "}\n",
    "\n",
    "for row in tbody:\n",
    "    cols = row.find_all('td')\n",
    "    data['stat'].append( cols[0].get_text() )\n",
    "    data['value'].append( cols[1].get_text() )\n",
    "    \n",
    "playerData = pd.DataFrame(data)\n",
    "print(playerData)"
   ]
  },
  {
   "cell_type": "code",
   "execution_count": null,
   "metadata": {
    "collapsed": true
   },
   "outputs": [],
   "source": []
  }
 ],
 "metadata": {
  "anaconda-cloud": {},
  "kernelspec": {
   "display_name": "Python 3",
   "language": "python",
   "name": "python3"
  },
  "language_info": {
   "codemirror_mode": {
    "name": "ipython",
    "version": 3
   },
   "file_extension": ".py",
   "mimetype": "text/x-python",
   "name": "python",
   "nbconvert_exporter": "python",
   "pygments_lexer": "ipython3",
   "version": "3.6.3"
  }
 },
 "nbformat": 4,
 "nbformat_minor": 1
}
