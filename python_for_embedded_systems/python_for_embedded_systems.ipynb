{
 "cells": [
  {
   "cell_type": "markdown",
   "metadata": {
    "slideshow": {
     "slide_type": "slide"
    }
   },
   "source": [
    "# <center>Python for embedded development</center>"
   ]
  },
  {
   "cell_type": "markdown",
   "metadata": {
    "slideshow": {
     "slide_type": "slide"
    }
   },
   "source": [
    "### <center>What is an [embedded system](https://www.pcmag.com/encyclopedia/term/42554/embedded-system)?</center>\n",
    "\n",
    "Any electronic system that uses a computer chip, but that is not a general-purpose workstation, desktop or laptop computer. Such systems use microcontrollers (MCUs) or microprocessors (MPUs), or they may use custom-designed chips. Deployed by the billions each year in myriad applications, the embedded systems market uses the lion's share of electronic components in the world.\n",
    "\n",
    "Embedded systems are employed in cars, planes, trains, space vehicles, machine tools, cameras, consumer electronics, office appliances, network appliances, cellphones, GPS navigation as well as robots and toys. Low-cost consumer products can use microcontroller chips that cost less than a dollar. See microprocessor and microcontroller."
   ]
  },
  {
   "cell_type": "markdown",
   "metadata": {
    "slideshow": {
     "slide_type": "slide"
    }
   },
   "source": [
    "### [Microcontroller](https://www.pcmag.com/encyclopedia/term/46924/microcontroller)\n",
    "\n",
    "A single chip that contains the processor (CPU), non-volatile memory (flash memory or ROM) for the program, volatile memory (RAM) for processing the data, a clock and an I/O control unit. Microcontroller units (MCUs) are available in numerous sizes and architectures. See CPU, flash memory, ROM, RAM and clock."
   ]
  },
  {
   "cell_type": "markdown",
   "metadata": {
    "slideshow": {
     "slide_type": "slide"
    }
   },
   "source": [
    "### [System on a Chip](https://www.pcmag.com/encyclopedia/term/51603/soc)\n",
    "\n",
    "System-On-Chip - Pronounced \"S-O-C.\" An electronic system on a single chip. A system-on-chip (SoC) typically includes a CPU along with graphics and other processing components. For example, a smartphone SoC would include the processor cores, graphics processing unit (GPU), memory caches and a neural processing unit (NPU). In this case, NAND flash storage, RAM, camera, audio, power and numerous small ICs are on the device's motherboard outside the SoC."
   ]
  },
  {
   "cell_type": "markdown",
   "metadata": {
    "slideshow": {
     "slide_type": "slide"
    }
   },
   "source": [
    "### Why Python for embedded development and learning?\n",
    "\n",
    "- C/C++ bindings\n",
    "- Speed of development/prototyping\n",
    "- REPL\n",
    "- stdlib\n",
    "- Ecosystem\n",
    "- Tooling\n"
   ]
  },
  {
   "cell_type": "markdown",
   "metadata": {
    "slideshow": {
     "slide_type": "slide"
    }
   },
   "source": [
    "### [MicroPython](https://micropython.org/)\n",
    "\n",
    "a lean and efficient implementation of the Python 3 programming language that includes a small subset of the Python standard library and is optimised to run on microcontrollers and in constrained environments. \n",
    "\n"
   ]
  },
  {
   "cell_type": "code",
   "execution_count": null,
   "metadata": {
    "slideshow": {
     "slide_type": "-"
    }
   },
   "outputs": [],
   "source": [
    "\"\"\"Hello World! from MicroPython\"\"\"\n",
    "import time\n",
    "from pyb import LED\n",
    "\n",
    "led = LED(1)\n",
    "led.toggle()\n",
    "\n",
    "while True:\n",
    "    led.on()\n",
    "    time.sleep(1)           # sleep for 1 second\n",
    "    led.off()\n",
    "    time.sleep_ms(500)      # sleep for 500 milliseconds"
   ]
  },
  {
   "cell_type": "markdown",
   "metadata": {
    "slideshow": {
     "slide_type": "slide"
    }
   },
   "source": [
    "### [CircuitPython](https://circuitpython.readthedocs.io/en/latest/docs/index.html)\n",
    "\n",
    "CircuitPython is a fork of MicroPython with the goal of being beginner friendly and targeted for use on microcontrollers. \n"
   ]
  },
  {
   "cell_type": "code",
   "execution_count": null,
   "metadata": {},
   "outputs": [],
   "source": [
    "\"\"\"Hello World! from CircuitPython\"\"\"\n",
    "import board\n",
    "import digitalio\n",
    "import time\n",
    "\n",
    "led = digitalio.DigitalInOut(board.D13)\n",
    "led.direction = digitalio.Direction.OUTPUT\n",
    "\n",
    "while True:\n",
    "    led.value = True\n",
    "    time.sleep(0.5)\n",
    "    led.value = False\n",
    "    time.sleep(0.5)"
   ]
  },
  {
   "cell_type": "markdown",
   "metadata": {
    "slideshow": {
     "slide_type": "slide"
    }
   },
   "source": [
    "# <center>Demo</center>\n",
    "\n",
    "## <center>[CircuitPython Getting Started](https://learn.adafruit.com/welcome-to-circuitpython/what-is-circuitpython)</center>"
   ]
  },
  {
   "cell_type": "markdown",
   "metadata": {
    "slideshow": {
     "slide_type": "slide"
    }
   },
   "source": [
    "### <center>Some of the ins and outs of how we just did that.</center>"
   ]
  },
  {
   "cell_type": "markdown",
   "metadata": {
    "slideshow": {
     "slide_type": "slide"
    }
   },
   "source": [
    "### [Bootloader](https://www.pcmag.com/encyclopedia/term/38843/boot-loader)\n",
    "\n",
    "A small program that calls the operating system into memory (RAM) after the power is turned on. The boot loader may reside in the boot sector of the hard drive (or SSD) or in a chip. In more secure systems, the boot loader may load a second-level boot program, which then loads the operating system. Sometimes, the boot loader and boot manager, which enables one of several operating systems to be selected, are combined in the same program. See boot, boot manager, boot sector and secure boot. [7]\n",
    "\n",
    "[UF2](https://learn.adafruit.com/installing-circuitpython-on-samd21-boards/installing-the-uf2-bootloader)"
   ]
  },
  {
   "cell_type": "markdown",
   "metadata": {
    "slideshow": {
     "slide_type": "slide"
    }
   },
   "source": [
    "### [Firmware](https://www.pcmag.com/encyclopedia/term/43223/firmware)\n",
    "\n",
    "(FIRM softWARE) Software instructions residing in non-volatile storage that holds its content without power. Firmware is found on computer motherboards to hold hardware settings and boot data (see BIOS) and on myriad consumer electronics devices to hold the operating system. [8]\n",
    "\n",
    "[CircuitPython](https://circuitpython.org/)"
   ]
  },
  {
   "cell_type": "markdown",
   "metadata": {
    "slideshow": {
     "slide_type": "slide"
    }
   },
   "source": [
    "### [Bootsequence](https://www.pcmag.com/encyclopedia/term/56508/first-boot-sequence)\n",
    "\n",
    "The search sequence of peripheral devices to find the operating system. If the computer cannot locate the OS in the first device, it looks in the second and so on\n",
    "\n",
    "[CircuitPython Boot Sequence](https://learn.adafruit.com/assets/75708)"
   ]
  },
  {
   "cell_type": "markdown",
   "metadata": {
    "slideshow": {
     "slide_type": "slide"
    }
   },
   "source": [
    "### [VM/Interpreter](https://www.pcmag.com/encyclopedia/term/45287/interpreter)\n",
    "\n",
    "A high-level programming language translator that translates and runs the program at the same time. It converts one program statement into machine language, executes it, and then proceeds to the next statement. This differs from regular executable programs that are presented to the computer as binary-coded instructions. Interpreted programs remain in the source language the programmer wrote in, which is human readable text.\n",
    "\n",
    "[Circuit/Micro Python](https://circuitpython.readthedocs.io/en/4.x/docs/porting.html)"
   ]
  },
  {
   "cell_type": "markdown",
   "metadata": {
    "slideshow": {
     "slide_type": "slide"
    }
   },
   "source": [
    "### Standard Library\n",
    "\n",
    "CircuitPython comes 'with the kitchen sink' - a lot of the things you know and love about classic Python 3 (sometimes called CPython) already work. There are a few things that don't but we'll try to keep this list updated as we add more capabilities!\n",
    "\n",
    "[CircuitPython Builtins](https://learn.adafruit.com/circuitpython-essentials/circuitpython-built-ins)\n",
    "\n",
    "[CircuitPython Modules](https://circuitpython.readthedocs.io/en/latest/shared-bindings/index.html)"
   ]
  },
  {
   "cell_type": "markdown",
   "metadata": {
    "slideshow": {
     "slide_type": "slide"
    }
   },
   "source": [
    "## Additional Resources\n",
    "\n",
    "#### Sites\n",
    "- [Adafruit](http://adafruit.com/)\n",
    "- [Hackaday](https://hackaday.com/)\n",
    "- [Embedded](https://embedded.fm/blog-index)\n",
    "- [Embedded Artistry](https://embeddedartistry.com/)\n",
    "- [PC Mag Encyclopedia](https://www.pcmag.com/encyclopedia)\n",
    "\n",
    "#### Books\n",
    "- [Make: Electronics](http://shop.oreilly.com/product/9780596153755.do)\n",
    "- [Making Embedded Systems](http://shop.oreilly.com/product/0636920017776.do)\n",
    "- [Programming with MicroPython](http://shop.oreilly.com/product/0636920056515.do)\n"
   ]
  },
  {
   "cell_type": "markdown",
   "metadata": {
    "slideshow": {
     "slide_type": "slide"
    }
   },
   "source": [
    "## Additional Resources\n",
    "\n",
    "#### Podcast\n",
    "- [Embedded](https://embedded.fm/)\n",
    "- [Amp Hour](https://theamphour.com/)\n",
    "- [Hackaday](https://hackaday.com/category/podcasts/)\n",
    "- [Adafruit](https://www.youtube.com/adafruit)\n",
    "\n",
    "#### Social\n",
    "- [Adafruit Discord](https://discordapp.com/invite/adafruit)\n",
    "- [Hackaday IO](https://hackaday.io/)\n",
    "\n",
    "#### Interesting:\n",
    "- [Evaluation of MicroPython as Application Layer Programming Language on CubeSats](https://ieeexplore.ieee.org/document/7948548)"
   ]
  }
 ],
 "metadata": {
  "celltoolbar": "Slideshow",
  "kernelspec": {
   "display_name": "Python 3",
   "language": "python",
   "name": "python3"
  },
  "language_info": {
   "codemirror_mode": {
    "name": "ipython",
    "version": 3
   },
   "file_extension": ".py",
   "mimetype": "text/x-python",
   "name": "python",
   "nbconvert_exporter": "python",
   "pygments_lexer": "ipython3",
   "version": "3.7.3+"
  },
  "pycharm": {
   "stem_cell": {
    "cell_type": "raw",
    "metadata": {
     "collapsed": false
    },
    "source": []
   }
  }
 },
 "nbformat": 4,
 "nbformat_minor": 1
}
